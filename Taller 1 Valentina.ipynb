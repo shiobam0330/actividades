{
 "cells": [
  {
   "cell_type": "markdown",
   "id": "d1372fe5-a2d0-40ae-b2bd-f396db1380c9",
   "metadata": {},
   "source": [
    "## 1. Código Data Science Machine Learning"
   ]
  },
  {
   "cell_type": "code",
   "execution_count": 1,
   "id": "fb9118a3-c1e3-449c-bdf4-c999e2984407",
   "metadata": {},
   "outputs": [],
   "source": [
    "import pandas as pd\n",
    "import numpy as np\n",
    "import pickle\n",
    "import matplotlib.pyplot as plt\n",
    "import seaborn as sns\n",
    "from sklearn.model_selection import GridSearchCV, train_test_split\n",
    "from sklearn.metrics import make_scorer, mean_squared_error\n",
    "from sklearn.linear_model import Ridge\n",
    "from xgboost import XGBRFRegressor\n",
    "from pycaret.regression import setup, compare_models, create_model, tune_model, plot_model, evaluate_model, finalize_model, predict_model, save_model, load_model\n",
    "import warnings\n",
    "warnings.filterwarnings(\"ignore\")\n",
    "import warnings\n",
    "warnings.filterwarnings(\"ignore\")"
   ]
  },
  {
   "cell_type": "code",
   "execution_count": 2,
   "id": "c82c74af-d6a9-4be1-a64e-5e5acf97b930",
   "metadata": {},
   "outputs": [],
   "source": [
    "path = \"D:/Downloads/INTELIGENCIA ARTIFICIAL/actividad individual/\""
   ]
  },
  {
   "cell_type": "code",
   "execution_count": 3,
   "id": "f89fd5af-2e05-4a76-b22d-444ce6040335",
   "metadata": {},
   "outputs": [],
   "source": [
    "dataset = pd.read_csv(path + \"dataset_APP.csv\",header = 0,sep=\";\",decimal=\",\") \n",
    "prueba = pd.read_csv(path + \"prueba_APP.csv\",header = 0,sep=\";\",decimal=\",\")"
   ]
  },
  {
   "cell_type": "code",
   "execution_count": 4,
   "id": "3cb52ae1-62a3-4ada-a018-2328fb53e6b0",
   "metadata": {},
   "outputs": [
    {
     "data": {
      "text/html": [
       "<div>\n",
       "<style scoped>\n",
       "    .dataframe tbody tr th:only-of-type {\n",
       "        vertical-align: middle;\n",
       "    }\n",
       "\n",
       "    .dataframe tbody tr th {\n",
       "        vertical-align: top;\n",
       "    }\n",
       "\n",
       "    .dataframe thead th {\n",
       "        text-align: right;\n",
       "    }\n",
       "</style>\n",
       "<table border=\"1\" class=\"dataframe\">\n",
       "  <thead>\n",
       "    <tr style=\"text-align: right;\">\n",
       "      <th></th>\n",
       "      <th>Email</th>\n",
       "      <th>Address</th>\n",
       "      <th>dominio</th>\n",
       "      <th>Tec</th>\n",
       "      <th>Avg. Session Length</th>\n",
       "      <th>Time on App</th>\n",
       "      <th>Time on Website</th>\n",
       "      <th>Length of Membership</th>\n",
       "      <th>price</th>\n",
       "    </tr>\n",
       "  </thead>\n",
       "  <tbody>\n",
       "    <tr>\n",
       "      <th>0</th>\n",
       "      <td>amandadean@gmail.com</td>\n",
       "      <td>Munich</td>\n",
       "      <td>gmail</td>\n",
       "      <td>Smartphone</td>\n",
       "      <td>32.063775</td>\n",
       "      <td>10.719150</td>\n",
       "      <td>37.712509</td>\n",
       "      <td>3.004743</td>\n",
       "      <td>503.0</td>\n",
       "    </tr>\n",
       "    <tr>\n",
       "      <th>1</th>\n",
       "      <td>kimberly46@garcia-nelson.biz</td>\n",
       "      <td>Ausburgo</td>\n",
       "      <td>Otro</td>\n",
       "      <td>Portatil</td>\n",
       "      <td>31.661050</td>\n",
       "      <td>11.398064</td>\n",
       "      <td>36.594457</td>\n",
       "      <td>3.198399</td>\n",
       "      <td>414.0</td>\n",
       "    </tr>\n",
       "  </tbody>\n",
       "</table>\n",
       "</div>"
      ],
      "text/plain": [
       "                          Email   Address dominio         Tec  \\\n",
       "0          amandadean@gmail.com    Munich   gmail  Smartphone   \n",
       "1  kimberly46@garcia-nelson.biz  Ausburgo    Otro    Portatil   \n",
       "\n",
       "   Avg. Session Length  Time on App  Time on Website  Length of Membership  \\\n",
       "0            32.063775    10.719150        37.712509              3.004743   \n",
       "1            31.661050    11.398064        36.594457              3.198399   \n",
       "\n",
       "   price  \n",
       "0  503.0  \n",
       "1  414.0  "
      ]
     },
     "execution_count": 4,
     "metadata": {},
     "output_type": "execute_result"
    }
   ],
   "source": [
    "dataset.head(2)"
   ]
  },
  {
   "cell_type": "code",
   "execution_count": 5,
   "id": "74fa1750-f132-4c8a-984d-34ee43b0e777",
   "metadata": {},
   "outputs": [
    {
     "data": {
      "text/html": [
       "<div>\n",
       "<style scoped>\n",
       "    .dataframe tbody tr th:only-of-type {\n",
       "        vertical-align: middle;\n",
       "    }\n",
       "\n",
       "    .dataframe tbody tr th {\n",
       "        vertical-align: top;\n",
       "    }\n",
       "\n",
       "    .dataframe thead th {\n",
       "        text-align: right;\n",
       "    }\n",
       "</style>\n",
       "<table border=\"1\" class=\"dataframe\">\n",
       "  <thead>\n",
       "    <tr style=\"text-align: right;\">\n",
       "      <th></th>\n",
       "      <th>Email</th>\n",
       "      <th>Address</th>\n",
       "      <th>dominio</th>\n",
       "      <th>Tec</th>\n",
       "      <th>Avg. Session Length</th>\n",
       "      <th>Time on App</th>\n",
       "      <th>Time on Website</th>\n",
       "      <th>Length of Membership</th>\n",
       "      <th>price</th>\n",
       "    </tr>\n",
       "  </thead>\n",
       "  <tbody>\n",
       "    <tr>\n",
       "      <th>0</th>\n",
       "      <td>lucastaylor@yahoo.com</td>\n",
       "      <td>Munich</td>\n",
       "      <td>yahoo</td>\n",
       "      <td>PC</td>\n",
       "      <td>33.946241</td>\n",
       "      <td>10.983977</td>\n",
       "      <td>37.951489</td>\n",
       "      <td>3.050713</td>\n",
       "      <td>642.0</td>\n",
       "    </tr>\n",
       "    <tr>\n",
       "      <th>1</th>\n",
       "      <td>theresamitchell@martin-chambers.biz</td>\n",
       "      <td>Munich</td>\n",
       "      <td>Otro</td>\n",
       "      <td>Smartphone</td>\n",
       "      <td>31.827979</td>\n",
       "      <td>12.461147</td>\n",
       "      <td>37.428997</td>\n",
       "      <td>2.974737</td>\n",
       "      <td>422.0</td>\n",
       "    </tr>\n",
       "  </tbody>\n",
       "</table>\n",
       "</div>"
      ],
      "text/plain": [
       "                                 Email Address dominio         Tec  \\\n",
       "0                lucastaylor@yahoo.com  Munich   yahoo          PC   \n",
       "1  theresamitchell@martin-chambers.biz  Munich    Otro  Smartphone   \n",
       "\n",
       "   Avg. Session Length  Time on App  Time on Website  Length of Membership  \\\n",
       "0            33.946241    10.983977        37.951489              3.050713   \n",
       "1            31.827979    12.461147        37.428997              2.974737   \n",
       "\n",
       "   price  \n",
       "0  642.0  \n",
       "1  422.0  "
      ]
     },
     "execution_count": 5,
     "metadata": {},
     "output_type": "execute_result"
    }
   ],
   "source": [
    "prueba.head(2)"
   ]
  },
  {
   "cell_type": "markdown",
   "id": "fa317d76-e470-48ca-bc7d-2afa409998dd",
   "metadata": {},
   "source": [
    "### Datos faltantes en dataset"
   ]
  },
  {
   "cell_type": "code",
   "execution_count": 6,
   "id": "a5eb1c16-9b7a-4ed4-ae82-e07518240e94",
   "metadata": {},
   "outputs": [
    {
     "data": {
      "text/html": [
       "<div>\n",
       "<style scoped>\n",
       "    .dataframe tbody tr th:only-of-type {\n",
       "        vertical-align: middle;\n",
       "    }\n",
       "\n",
       "    .dataframe tbody tr th {\n",
       "        vertical-align: top;\n",
       "    }\n",
       "\n",
       "    .dataframe thead th {\n",
       "        text-align: right;\n",
       "    }\n",
       "</style>\n",
       "<table border=\"1\" class=\"dataframe\">\n",
       "  <thead>\n",
       "    <tr style=\"text-align: right;\">\n",
       "      <th></th>\n",
       "      <th>Variable</th>\n",
       "      <th>Faltantes</th>\n",
       "      <th>% Faltantes</th>\n",
       "    </tr>\n",
       "  </thead>\n",
       "  <tbody>\n",
       "  </tbody>\n",
       "</table>\n",
       "</div>"
      ],
      "text/plain": [
       "Empty DataFrame\n",
       "Columns: [Variable, Faltantes, % Faltantes]\n",
       "Index: []"
      ]
     },
     "execution_count": 6,
     "metadata": {},
     "output_type": "execute_result"
    }
   ],
   "source": [
    "ft = pd.DataFrame(dataset.isnull().sum()).reset_index()\n",
    "ft.columns = [\"Variable\",\"Faltantes\"]\n",
    "ft[\"% Faltantes\"] = ft[\"Faltantes\"] * 100 / dataset.shape[0]\n",
    "ft.loc[ft[\"% Faltantes\"]>0]"
   ]
  },
  {
   "cell_type": "code",
   "execution_count": 7,
   "id": "c01900bb-5408-4d37-9157-d7af7b348751",
   "metadata": {},
   "outputs": [
    {
     "data": {
      "text/html": [
       "<div>\n",
       "<style scoped>\n",
       "    .dataframe tbody tr th:only-of-type {\n",
       "        vertical-align: middle;\n",
       "    }\n",
       "\n",
       "    .dataframe tbody tr th {\n",
       "        vertical-align: top;\n",
       "    }\n",
       "\n",
       "    .dataframe thead th {\n",
       "        text-align: right;\n",
       "    }\n",
       "</style>\n",
       "<table border=\"1\" class=\"dataframe\">\n",
       "  <thead>\n",
       "    <tr style=\"text-align: right;\">\n",
       "      <th></th>\n",
       "      <th>Variable</th>\n",
       "      <th>Faltantes</th>\n",
       "      <th>% Faltantes</th>\n",
       "      <th>Formato</th>\n",
       "    </tr>\n",
       "  </thead>\n",
       "  <tbody>\n",
       "    <tr>\n",
       "      <th>0</th>\n",
       "      <td>Email</td>\n",
       "      <td>0</td>\n",
       "      <td>0.0</td>\n",
       "      <td>object</td>\n",
       "    </tr>\n",
       "    <tr>\n",
       "      <th>1</th>\n",
       "      <td>Address</td>\n",
       "      <td>0</td>\n",
       "      <td>0.0</td>\n",
       "      <td>object</td>\n",
       "    </tr>\n",
       "    <tr>\n",
       "      <th>2</th>\n",
       "      <td>dominio</td>\n",
       "      <td>0</td>\n",
       "      <td>0.0</td>\n",
       "      <td>object</td>\n",
       "    </tr>\n",
       "    <tr>\n",
       "      <th>3</th>\n",
       "      <td>Tec</td>\n",
       "      <td>0</td>\n",
       "      <td>0.0</td>\n",
       "      <td>object</td>\n",
       "    </tr>\n",
       "    <tr>\n",
       "      <th>4</th>\n",
       "      <td>Avg. Session Length</td>\n",
       "      <td>0</td>\n",
       "      <td>0.0</td>\n",
       "      <td>float64</td>\n",
       "    </tr>\n",
       "  </tbody>\n",
       "</table>\n",
       "</div>"
      ],
      "text/plain": [
       "              Variable  Faltantes  % Faltantes  Formato\n",
       "0                Email          0          0.0   object\n",
       "1              Address          0          0.0   object\n",
       "2              dominio          0          0.0   object\n",
       "3                  Tec          0          0.0   object\n",
       "4  Avg. Session Length          0          0.0  float64"
      ]
     },
     "execution_count": 7,
     "metadata": {},
     "output_type": "execute_result"
    }
   ],
   "source": [
    "formato = pd.DataFrame({'Variable': list(dataset.columns), 'Formato': dataset.dtypes })\n",
    "ft = pd.merge(ft,formato,on=[\"Variable\"],how=\"left\")\n",
    "ft.head()"
   ]
  },
  {
   "cell_type": "markdown",
   "id": "b61926ae-0694-4752-90fc-e968bf092a3a",
   "metadata": {},
   "source": [
    "### Datos faltantes en prueba"
   ]
  },
  {
   "cell_type": "code",
   "execution_count": 8,
   "id": "a8f8bed7-701f-474b-bd18-ad6eba1394e7",
   "metadata": {},
   "outputs": [
    {
     "data": {
      "text/html": [
       "<div>\n",
       "<style scoped>\n",
       "    .dataframe tbody tr th:only-of-type {\n",
       "        vertical-align: middle;\n",
       "    }\n",
       "\n",
       "    .dataframe tbody tr th {\n",
       "        vertical-align: top;\n",
       "    }\n",
       "\n",
       "    .dataframe thead th {\n",
       "        text-align: right;\n",
       "    }\n",
       "</style>\n",
       "<table border=\"1\" class=\"dataframe\">\n",
       "  <thead>\n",
       "    <tr style=\"text-align: right;\">\n",
       "      <th></th>\n",
       "      <th>Variable</th>\n",
       "      <th>Faltantes</th>\n",
       "      <th>% Faltantes</th>\n",
       "    </tr>\n",
       "  </thead>\n",
       "  <tbody>\n",
       "  </tbody>\n",
       "</table>\n",
       "</div>"
      ],
      "text/plain": [
       "Empty DataFrame\n",
       "Columns: [Variable, Faltantes, % Faltantes]\n",
       "Index: []"
      ]
     },
     "execution_count": 8,
     "metadata": {},
     "output_type": "execute_result"
    }
   ],
   "source": [
    "ft2 = pd.DataFrame(prueba.isnull().sum()).reset_index()\n",
    "ft2.columns = [\"Variable\",\"Faltantes\"]\n",
    "ft2[\"% Faltantes\"] = ft2[\"Faltantes\"] * 100 / prueba.shape[0]\n",
    "ft2.loc[ft2[\"% Faltantes\"]>0]"
   ]
  },
  {
   "cell_type": "code",
   "execution_count": 9,
   "id": "e2bd3c8a-332c-458d-95f4-d66690a949c2",
   "metadata": {},
   "outputs": [
    {
     "data": {
      "text/html": [
       "<div>\n",
       "<style scoped>\n",
       "    .dataframe tbody tr th:only-of-type {\n",
       "        vertical-align: middle;\n",
       "    }\n",
       "\n",
       "    .dataframe tbody tr th {\n",
       "        vertical-align: top;\n",
       "    }\n",
       "\n",
       "    .dataframe thead th {\n",
       "        text-align: right;\n",
       "    }\n",
       "</style>\n",
       "<table border=\"1\" class=\"dataframe\">\n",
       "  <thead>\n",
       "    <tr style=\"text-align: right;\">\n",
       "      <th></th>\n",
       "      <th>Variable</th>\n",
       "      <th>Faltantes</th>\n",
       "      <th>% Faltantes</th>\n",
       "      <th>Formato</th>\n",
       "    </tr>\n",
       "  </thead>\n",
       "  <tbody>\n",
       "    <tr>\n",
       "      <th>0</th>\n",
       "      <td>Email</td>\n",
       "      <td>0</td>\n",
       "      <td>0.0</td>\n",
       "      <td>object</td>\n",
       "    </tr>\n",
       "    <tr>\n",
       "      <th>1</th>\n",
       "      <td>Address</td>\n",
       "      <td>0</td>\n",
       "      <td>0.0</td>\n",
       "      <td>object</td>\n",
       "    </tr>\n",
       "    <tr>\n",
       "      <th>2</th>\n",
       "      <td>dominio</td>\n",
       "      <td>0</td>\n",
       "      <td>0.0</td>\n",
       "      <td>object</td>\n",
       "    </tr>\n",
       "    <tr>\n",
       "      <th>3</th>\n",
       "      <td>Tec</td>\n",
       "      <td>0</td>\n",
       "      <td>0.0</td>\n",
       "      <td>object</td>\n",
       "    </tr>\n",
       "    <tr>\n",
       "      <th>4</th>\n",
       "      <td>Avg. Session Length</td>\n",
       "      <td>0</td>\n",
       "      <td>0.0</td>\n",
       "      <td>float64</td>\n",
       "    </tr>\n",
       "    <tr>\n",
       "      <th>5</th>\n",
       "      <td>Time on App</td>\n",
       "      <td>0</td>\n",
       "      <td>0.0</td>\n",
       "      <td>float64</td>\n",
       "    </tr>\n",
       "    <tr>\n",
       "      <th>6</th>\n",
       "      <td>Time on Website</td>\n",
       "      <td>0</td>\n",
       "      <td>0.0</td>\n",
       "      <td>float64</td>\n",
       "    </tr>\n",
       "    <tr>\n",
       "      <th>7</th>\n",
       "      <td>Length of Membership</td>\n",
       "      <td>0</td>\n",
       "      <td>0.0</td>\n",
       "      <td>float64</td>\n",
       "    </tr>\n",
       "    <tr>\n",
       "      <th>8</th>\n",
       "      <td>price</td>\n",
       "      <td>0</td>\n",
       "      <td>0.0</td>\n",
       "      <td>float64</td>\n",
       "    </tr>\n",
       "  </tbody>\n",
       "</table>\n",
       "</div>"
      ],
      "text/plain": [
       "               Variable  Faltantes  % Faltantes  Formato\n",
       "0                 Email          0          0.0   object\n",
       "1               Address          0          0.0   object\n",
       "2               dominio          0          0.0   object\n",
       "3                   Tec          0          0.0   object\n",
       "4   Avg. Session Length          0          0.0  float64\n",
       "5           Time on App          0          0.0  float64\n",
       "6       Time on Website          0          0.0  float64\n",
       "7  Length of Membership          0          0.0  float64\n",
       "8                 price          0          0.0  float64"
      ]
     },
     "execution_count": 9,
     "metadata": {},
     "output_type": "execute_result"
    }
   ],
   "source": [
    "formato2 = pd.DataFrame({'Variable': list(prueba.columns), 'Formato': prueba.dtypes })\n",
    "ft = pd.merge(ft2,formato2,on=[\"Variable\"],how=\"left\")\n",
    "ft"
   ]
  },
  {
   "cell_type": "markdown",
   "id": "73eb510e-5ab9-41b5-a6e9-17484d34c1e5",
   "metadata": {},
   "source": [
    "## Análisis descriptivo"
   ]
  },
  {
   "cell_type": "code",
   "execution_count": 10,
   "id": "1ab79ab2-9e73-47cf-a905-53e948130c05",
   "metadata": {},
   "outputs": [],
   "source": [
    "cuantitativas = list(formato.loc[formato[\"Formato\"]!=\"object\",\"Variable\"])\n",
    "cuantitativas = [x for x in cuantitativas if x not in [\"Email\",\"Address\"]]"
   ]
  },
  {
   "cell_type": "code",
   "execution_count": 11,
   "id": "a42532e5-1d1e-4e83-a7c7-36db3bae7061",
   "metadata": {},
   "outputs": [
    {
     "data": {
      "image/png": "[encoded data removed]",
      "text/plain": [
       "<Figure size 400x400 with 2 Axes>"
      ]
     },
     "metadata": {},
     "output_type": "display_data"
    }
   ],
   "source": [
    "co = dataset.get(cuantitativas).copy()\n",
    "cor_ = co.corr()\n",
    "plt.figure(figsize=(4,4))\n",
    "sns.heatmap(cor_, linewidths=0.01, annot=True, fmt = \".2f\", cmap=\"Oranges\")\n",
    "plt.title(\"Matriz de correlaciones\")\n",
    "plt.show()"
   ]
  },
  {
   "cell_type": "code",
   "execution_count": 12,
   "id": "f0eb820f-0d2b-4d58-9c17-1b301b58210b",
   "metadata": {},
   "outputs": [
    {
     "data": {
      "image/png": "[encoded data removed]",
      "text/plain": [
       "<Figure size 400x400 with 1 Axes>"
      ]
     },
     "metadata": {},
     "output_type": "display_data"
    },
    {
     "data": {
      "image/png": "[encoded data removed]",
      "text/plain": [
       "<Figure size 400x400 with 1 Axes>"
      ]
     },
     "metadata": {},
     "output_type": "display_data"
    },
    {
     "data": {
      "image/png": "[encoded data removed]",
      "text/plain": [
       "<Figure size 400x400 with 1 Axes>"
      ]
     },
     "metadata": {},
     "output_type": "display_data"
    },
    {
     "data": {
      "image/png": "[encoded data removed]",
      "text/plain": [
       "<Figure size 400x400 with 1 Axes>"
      ]
     },
     "metadata": {},
     "output_type": "display_data"
    }
   ],
   "source": [
    "cuantitativas = [x for x in cuantitativas if x not in [\"Email\",\"Address\",\"price\"]]\n",
    "for k in cuantitativas:\n",
    "    plt.figure(figsize=(4,4))\n",
    "    plt.plot(dataset[k],dataset[\"price\"],'*b')\n",
    "    plt.xlabel(k); plt.ylabel(\"price\")\n",
    "    plt.title(\"Gráfico de dispersión de \"+k+\" y price\")"
   ]
  },
  {
   "cell_type": "code",
   "execution_count": 13,
   "id": "b0395d9a-2bf1-4db0-9ed7-76bccffb445f",
   "metadata": {},
   "outputs": [
    {
     "data": {
      "text/html": [
       "<div>\n",
       "<style scoped>\n",
       "    .dataframe tbody tr th:only-of-type {\n",
       "        vertical-align: middle;\n",
       "    }\n",
       "\n",
       "    .dataframe tbody tr th {\n",
       "        vertical-align: top;\n",
       "    }\n",
       "\n",
       "    .dataframe thead th {\n",
       "        text-align: right;\n",
       "    }\n",
       "</style>\n",
       "<table border=\"1\" class=\"dataframe\">\n",
       "  <thead>\n",
       "    <tr style=\"text-align: right;\">\n",
       "      <th></th>\n",
       "      <th>Variable</th>\n",
       "      <th>Faltantes</th>\n",
       "      <th>% Faltantes</th>\n",
       "      <th>Formato</th>\n",
       "    </tr>\n",
       "  </thead>\n",
       "  <tbody>\n",
       "    <tr>\n",
       "      <th>0</th>\n",
       "      <td>Email</td>\n",
       "      <td>0</td>\n",
       "      <td>0.0</td>\n",
       "      <td>object</td>\n",
       "    </tr>\n",
       "    <tr>\n",
       "      <th>1</th>\n",
       "      <td>Address</td>\n",
       "      <td>0</td>\n",
       "      <td>0.0</td>\n",
       "      <td>object</td>\n",
       "    </tr>\n",
       "    <tr>\n",
       "      <th>2</th>\n",
       "      <td>dominio</td>\n",
       "      <td>0</td>\n",
       "      <td>0.0</td>\n",
       "      <td>object</td>\n",
       "    </tr>\n",
       "    <tr>\n",
       "      <th>3</th>\n",
       "      <td>Tec</td>\n",
       "      <td>0</td>\n",
       "      <td>0.0</td>\n",
       "      <td>object</td>\n",
       "    </tr>\n",
       "    <tr>\n",
       "      <th>4</th>\n",
       "      <td>Avg. Session Length</td>\n",
       "      <td>0</td>\n",
       "      <td>0.0</td>\n",
       "      <td>float64</td>\n",
       "    </tr>\n",
       "    <tr>\n",
       "      <th>5</th>\n",
       "      <td>Time on App</td>\n",
       "      <td>0</td>\n",
       "      <td>0.0</td>\n",
       "      <td>float64</td>\n",
       "    </tr>\n",
       "    <tr>\n",
       "      <th>6</th>\n",
       "      <td>Time on Website</td>\n",
       "      <td>0</td>\n",
       "      <td>0.0</td>\n",
       "      <td>float64</td>\n",
       "    </tr>\n",
       "    <tr>\n",
       "      <th>7</th>\n",
       "      <td>Length of Membership</td>\n",
       "      <td>0</td>\n",
       "      <td>0.0</td>\n",
       "      <td>float64</td>\n",
       "    </tr>\n",
       "    <tr>\n",
       "      <th>8</th>\n",
       "      <td>price</td>\n",
       "      <td>0</td>\n",
       "      <td>0.0</td>\n",
       "      <td>float64</td>\n",
       "    </tr>\n",
       "  </tbody>\n",
       "</table>\n",
       "</div>"
      ],
      "text/plain": [
       "               Variable  Faltantes  % Faltantes  Formato\n",
       "0                 Email          0          0.0   object\n",
       "1               Address          0          0.0   object\n",
       "2               dominio          0          0.0   object\n",
       "3                   Tec          0          0.0   object\n",
       "4   Avg. Session Length          0          0.0  float64\n",
       "5           Time on App          0          0.0  float64\n",
       "6       Time on Website          0          0.0  float64\n",
       "7  Length of Membership          0          0.0  float64\n",
       "8                 price          0          0.0  float64"
      ]
     },
     "execution_count": 13,
     "metadata": {},
     "output_type": "execute_result"
    }
   ],
   "source": [
    "ft"
   ]
  },
  {
   "cell_type": "code",
   "execution_count": 14,
   "id": "c7fbb267-11f7-45c2-bc9e-985e30def6ed",
   "metadata": {},
   "outputs": [],
   "source": [
    "categoricas = list(formato.loc[formato[\"Formato\"]==\"O\",\"Variable\"])\n",
    "categoricas = [x for x in categoricas if x not in [\"Email\",\"Address\"]]"
   ]
  },
  {
   "cell_type": "code",
   "execution_count": 15,
   "id": "95818e83-e23e-4f74-a3f7-e1b1d0a32b85",
   "metadata": {},
   "outputs": [
    {
     "data": {
      "image/png": "[encoded data removed]",
      "text/plain": [
       "<Figure size 400x400 with 1 Axes>"
      ]
     },
     "metadata": {},
     "output_type": "display_data"
    },
    {
     "data": {
      "image/png": "[encoded data removed]",
      "text/plain": [
       "<Figure size 400x400 with 1 Axes>"
      ]
     },
     "metadata": {},
     "output_type": "display_data"
    }
   ],
   "source": [
    "for k in categoricas:\n",
    "    plt.figure(figsize=(4,4))\n",
    "    sns.boxplot(x = k, y = \"price\",data=dataset)\n",
    "    plt.title(\"Boxplot de \"+k+\" vs precio\")\n",
    "    plt.xticks(rotation = 90)\n",
    "    plt.show()"
   ]
  },
  {
   "cell_type": "code",
   "execution_count": 16,
   "id": "98497a97-91f4-4c20-9d54-cf86032f9918",
   "metadata": {},
   "outputs": [
    {
     "data": {
      "text/plain": [
       "['Avg. Session Length',\n",
       " 'Time on App',\n",
       " 'Time on Website',\n",
       " 'Length of Membership']"
      ]
     },
     "execution_count": 16,
     "metadata": {},
     "output_type": "execute_result"
    }
   ],
   "source": [
    "cuantitativas"
   ]
  },
  {
   "cell_type": "code",
   "execution_count": 17,
   "id": "178cb1f4-94c0-4277-97c7-307d0cd57b1b",
   "metadata": {},
   "outputs": [
    {
     "data": {
      "text/plain": [
       "['dominio', 'Tec']"
      ]
     },
     "execution_count": 17,
     "metadata": {},
     "output_type": "execute_result"
    }
   ],
   "source": [
    "categoricas"
   ]
  },
  {
   "cell_type": "markdown",
   "id": "d6bfa558-9622-4a4c-95c0-9c8b705757f0",
   "metadata": {},
   "source": [
    "## base sin ingeniería"
   ]
  },
  {
   "cell_type": "code",
   "execution_count": 18,
   "id": "0906bc44-591d-417b-90a8-f14640b3bf51",
   "metadata": {},
   "outputs": [
    {
     "data": {
      "text/html": [
       "<div>\n",
       "<style scoped>\n",
       "    .dataframe tbody tr th:only-of-type {\n",
       "        vertical-align: middle;\n",
       "    }\n",
       "\n",
       "    .dataframe tbody tr th {\n",
       "        vertical-align: top;\n",
       "    }\n",
       "\n",
       "    .dataframe thead th {\n",
       "        text-align: right;\n",
       "    }\n",
       "</style>\n",
       "<table border=\"1\" class=\"dataframe\">\n",
       "  <thead>\n",
       "    <tr style=\"text-align: right;\">\n",
       "      <th></th>\n",
       "      <th>Avg. Session Length</th>\n",
       "      <th>Time on App</th>\n",
       "      <th>Time on Website</th>\n",
       "      <th>Length of Membership</th>\n",
       "      <th>dominio</th>\n",
       "      <th>Tec</th>\n",
       "      <th>y</th>\n",
       "    </tr>\n",
       "  </thead>\n",
       "  <tbody>\n",
       "    <tr>\n",
       "      <th>0</th>\n",
       "      <td>32.063775</td>\n",
       "      <td>10.719150</td>\n",
       "      <td>37.712509</td>\n",
       "      <td>3.004743</td>\n",
       "      <td>gmail</td>\n",
       "      <td>Smartphone</td>\n",
       "      <td>503.0</td>\n",
       "    </tr>\n",
       "    <tr>\n",
       "      <th>1</th>\n",
       "      <td>31.661050</td>\n",
       "      <td>11.398064</td>\n",
       "      <td>36.594457</td>\n",
       "      <td>3.198399</td>\n",
       "      <td>Otro</td>\n",
       "      <td>Portatil</td>\n",
       "      <td>414.0</td>\n",
       "    </tr>\n",
       "    <tr>\n",
       "      <th>2</th>\n",
       "      <td>32.838100</td>\n",
       "      <td>12.364342</td>\n",
       "      <td>38.039109</td>\n",
       "      <td>3.309182</td>\n",
       "      <td>Otro</td>\n",
       "      <td>PC</td>\n",
       "      <td>467.0</td>\n",
       "    </tr>\n",
       "    <tr>\n",
       "      <th>3</th>\n",
       "      <td>34.357196</td>\n",
       "      <td>9.477778</td>\n",
       "      <td>37.906015</td>\n",
       "      <td>5.047023</td>\n",
       "      <td>Otro</td>\n",
       "      <td>Iphone</td>\n",
       "      <td>503.0</td>\n",
       "    </tr>\n",
       "    <tr>\n",
       "      <th>4</th>\n",
       "      <td>34.814984</td>\n",
       "      <td>12.114945</td>\n",
       "      <td>36.288724</td>\n",
       "      <td>4.389455</td>\n",
       "      <td>hotmail</td>\n",
       "      <td>Smartphone</td>\n",
       "      <td>411.0</td>\n",
       "    </tr>\n",
       "  </tbody>\n",
       "</table>\n",
       "</div>"
      ],
      "text/plain": [
       "   Avg. Session Length  Time on App  Time on Website  Length of Membership  \\\n",
       "0            32.063775    10.719150        37.712509              3.004743   \n",
       "1            31.661050    11.398064        36.594457              3.198399   \n",
       "2            32.838100    12.364342        38.039109              3.309182   \n",
       "3            34.357196     9.477778        37.906015              5.047023   \n",
       "4            34.814984    12.114945        36.288724              4.389455   \n",
       "\n",
       "   dominio         Tec      y  \n",
       "0    gmail  Smartphone  503.0  \n",
       "1     Otro    Portatil  414.0  \n",
       "2     Otro          PC  467.0  \n",
       "3     Otro      Iphone  503.0  \n",
       "4  hotmail  Smartphone  411.0  "
      ]
     },
     "execution_count": 18,
     "metadata": {},
     "output_type": "execute_result"
    }
   ],
   "source": [
    "base_modelo = pd.concat([dataset.get(cuantitativas),dataset.get(categoricas)],axis = 1)\n",
    "base_modelo[\"y\"] = dataset[\"price\"].copy()\n",
    "base_modelo.head()"
   ]
  },
  {
   "cell_type": "code",
   "execution_count": 19,
   "id": "a14d44b4-4607-49a9-b51b-a930c0f13225",
   "metadata": {},
   "outputs": [
    {
     "data": {
      "text/html": [
       "<style type=\"text/css\">\n",
       "#T_1ca42_row9_col1 {\n",
       "  background-color: lightgreen;\n",
       "}\n",
       "</style>\n",
       "<table id=\"T_1ca42\">\n",
       "  <thead>\n",
       "    <tr>\n",
       "      <th class=\"blank level0\" >&nbsp;</th>\n",
       "      <th id=\"T_1ca42_level0_col0\" class=\"col_heading level0 col0\" >Description</th>\n",
       "      <th id=\"T_1ca42_level0_col1\" class=\"col_heading level0 col1\" >Value</th>\n",
       "    </tr>\n",
       "  </thead>\n",
       "  <tbody>\n",
       "    <tr>\n",
       "      <th id=\"T_1ca42_level0_row0\" class=\"row_heading level0 row0\" >0</th>\n",
       "      <td id=\"T_1ca42_row0_col0\" class=\"data row0 col0\" >Session id</td>\n",
       "      <td id=\"T_1ca42_row0_col1\" class=\"data row0 col1\" >123</td>\n",
       "    </tr>\n",
       "    <tr>\n",
       "      <th id=\"T_1ca42_level0_row1\" class=\"row_heading level0 row1\" >1</th>\n",
       "      <td id=\"T_1ca42_row1_col0\" class=\"data row1 col0\" >Target</td>\n",
       "      <td id=\"T_1ca42_row1_col1\" class=\"data row1 col1\" >y</td>\n",
       "    </tr>\n",
       "    <tr>\n",
       "      <th id=\"T_1ca42_level0_row2\" class=\"row_heading level0 row2\" >2</th>\n",
       "      <td id=\"T_1ca42_row2_col0\" class=\"data row2 col0\" >Target type</td>\n",
       "      <td id=\"T_1ca42_row2_col1\" class=\"data row2 col1\" >Regression</td>\n",
       "    </tr>\n",
       "    <tr>\n",
       "      <th id=\"T_1ca42_level0_row3\" class=\"row_heading level0 row3\" >3</th>\n",
       "      <td id=\"T_1ca42_row3_col0\" class=\"data row3 col0\" >Original data shape</td>\n",
       "      <td id=\"T_1ca42_row3_col1\" class=\"data row3 col1\" >(425, 7)</td>\n",
       "    </tr>\n",
       "    <tr>\n",
       "      <th id=\"T_1ca42_level0_row4\" class=\"row_heading level0 row4\" >4</th>\n",
       "      <td id=\"T_1ca42_row4_col0\" class=\"data row4 col0\" >Transformed data shape</td>\n",
       "      <td id=\"T_1ca42_row4_col1\" class=\"data row4 col1\" >(425, 13)</td>\n",
       "    </tr>\n",
       "    <tr>\n",
       "      <th id=\"T_1ca42_level0_row5\" class=\"row_heading level0 row5\" >5</th>\n",
       "      <td id=\"T_1ca42_row5_col0\" class=\"data row5 col0\" >Transformed train set shape</td>\n",
       "      <td id=\"T_1ca42_row5_col1\" class=\"data row5 col1\" >(297, 13)</td>\n",
       "    </tr>\n",
       "    <tr>\n",
       "      <th id=\"T_1ca42_level0_row6\" class=\"row_heading level0 row6\" >6</th>\n",
       "      <td id=\"T_1ca42_row6_col0\" class=\"data row6 col0\" >Transformed test set shape</td>\n",
       "      <td id=\"T_1ca42_row6_col1\" class=\"data row6 col1\" >(128, 13)</td>\n",
       "    </tr>\n",
       "    <tr>\n",
       "      <th id=\"T_1ca42_level0_row7\" class=\"row_heading level0 row7\" >7</th>\n",
       "      <td id=\"T_1ca42_row7_col0\" class=\"data row7 col0\" >Numeric features</td>\n",
       "      <td id=\"T_1ca42_row7_col1\" class=\"data row7 col1\" >4</td>\n",
       "    </tr>\n",
       "    <tr>\n",
       "      <th id=\"T_1ca42_level0_row8\" class=\"row_heading level0 row8\" >8</th>\n",
       "      <td id=\"T_1ca42_row8_col0\" class=\"data row8 col0\" >Categorical features</td>\n",
       "      <td id=\"T_1ca42_row8_col1\" class=\"data row8 col1\" >2</td>\n",
       "    </tr>\n",
       "    <tr>\n",
       "      <th id=\"T_1ca42_level0_row9\" class=\"row_heading level0 row9\" >9</th>\n",
       "      <td id=\"T_1ca42_row9_col0\" class=\"data row9 col0\" >Preprocess</td>\n",
       "      <td id=\"T_1ca42_row9_col1\" class=\"data row9 col1\" >True</td>\n",
       "    </tr>\n",
       "    <tr>\n",
       "      <th id=\"T_1ca42_level0_row10\" class=\"row_heading level0 row10\" >10</th>\n",
       "      <td id=\"T_1ca42_row10_col0\" class=\"data row10 col0\" >Imputation type</td>\n",
       "      <td id=\"T_1ca42_row10_col1\" class=\"data row10 col1\" >simple</td>\n",
       "    </tr>\n",
       "    <tr>\n",
       "      <th id=\"T_1ca42_level0_row11\" class=\"row_heading level0 row11\" >11</th>\n",
       "      <td id=\"T_1ca42_row11_col0\" class=\"data row11 col0\" >Numeric imputation</td>\n",
       "      <td id=\"T_1ca42_row11_col1\" class=\"data row11 col1\" >mean</td>\n",
       "    </tr>\n",
       "    <tr>\n",
       "      <th id=\"T_1ca42_level0_row12\" class=\"row_heading level0 row12\" >12</th>\n",
       "      <td id=\"T_1ca42_row12_col0\" class=\"data row12 col0\" >Categorical imputation</td>\n",
       "      <td id=\"T_1ca42_row12_col1\" class=\"data row12 col1\" >mode</td>\n",
       "    </tr>\n",
       "    <tr>\n",
       "      <th id=\"T_1ca42_level0_row13\" class=\"row_heading level0 row13\" >13</th>\n",
       "      <td id=\"T_1ca42_row13_col0\" class=\"data row13 col0\" >Maximum one-hot encoding</td>\n",
       "      <td id=\"T_1ca42_row13_col1\" class=\"data row13 col1\" >25</td>\n",
       "    </tr>\n",
       "    <tr>\n",
       "      <th id=\"T_1ca42_level0_row14\" class=\"row_heading level0 row14\" >14</th>\n",
       "      <td id=\"T_1ca42_row14_col0\" class=\"data row14 col0\" >Encoding method</td>\n",
       "      <td id=\"T_1ca42_row14_col1\" class=\"data row14 col1\" >None</td>\n",
       "    </tr>\n",
       "    <tr>\n",
       "      <th id=\"T_1ca42_level0_row15\" class=\"row_heading level0 row15\" >15</th>\n",
       "      <td id=\"T_1ca42_row15_col0\" class=\"data row15 col0\" >Fold Generator</td>\n",
       "      <td id=\"T_1ca42_row15_col1\" class=\"data row15 col1\" >KFold</td>\n",
       "    </tr>\n",
       "    <tr>\n",
       "      <th id=\"T_1ca42_level0_row16\" class=\"row_heading level0 row16\" >16</th>\n",
       "      <td id=\"T_1ca42_row16_col0\" class=\"data row16 col0\" >Fold Number</td>\n",
       "      <td id=\"T_1ca42_row16_col1\" class=\"data row16 col1\" >10</td>\n",
       "    </tr>\n",
       "    <tr>\n",
       "      <th id=\"T_1ca42_level0_row17\" class=\"row_heading level0 row17\" >17</th>\n",
       "      <td id=\"T_1ca42_row17_col0\" class=\"data row17 col0\" >CPU Jobs</td>\n",
       "      <td id=\"T_1ca42_row17_col1\" class=\"data row17 col1\" >-1</td>\n",
       "    </tr>\n",
       "    <tr>\n",
       "      <th id=\"T_1ca42_level0_row18\" class=\"row_heading level0 row18\" >18</th>\n",
       "      <td id=\"T_1ca42_row18_col0\" class=\"data row18 col0\" >Use GPU</td>\n",
       "      <td id=\"T_1ca42_row18_col1\" class=\"data row18 col1\" >False</td>\n",
       "    </tr>\n",
       "    <tr>\n",
       "      <th id=\"T_1ca42_level0_row19\" class=\"row_heading level0 row19\" >19</th>\n",
       "      <td id=\"T_1ca42_row19_col0\" class=\"data row19 col0\" >Log Experiment</td>\n",
       "      <td id=\"T_1ca42_row19_col1\" class=\"data row19 col1\" >False</td>\n",
       "    </tr>\n",
       "    <tr>\n",
       "      <th id=\"T_1ca42_level0_row20\" class=\"row_heading level0 row20\" >20</th>\n",
       "      <td id=\"T_1ca42_row20_col0\" class=\"data row20 col0\" >Experiment Name</td>\n",
       "      <td id=\"T_1ca42_row20_col1\" class=\"data row20 col1\" >reg-default-name</td>\n",
       "    </tr>\n",
       "    <tr>\n",
       "      <th id=\"T_1ca42_level0_row21\" class=\"row_heading level0 row21\" >21</th>\n",
       "      <td id=\"T_1ca42_row21_col0\" class=\"data row21 col0\" >USI</td>\n",
       "      <td id=\"T_1ca42_row21_col1\" class=\"data row21 col1\" >15ca</td>\n",
       "    </tr>\n",
       "  </tbody>\n",
       "</table>\n"
      ],
      "text/plain": [
       "<pandas.io.formats.style.Styler at 0x25d88280400>"
      ]
     },
     "metadata": {},
     "output_type": "display_data"
    }
   ],
   "source": [
    "# Configuración del experimento\n",
    "exp_clf101 = setup(data=base_modelo,\n",
    "target='y',\n",
    "session_id=123,\n",
    "train_size=0.7,\n",
    "numeric_features = cuantitativas,\n",
    "categorical_features = categoricas)"
   ]
  },
  {
   "cell_type": "code",
   "execution_count": 20,
   "id": "7e646810-5222-49f5-b9f9-1ebabc66e8fd",
   "metadata": {},
   "outputs": [
    {
     "data": {
      "text/html": [],
      "text/plain": [
       "<IPython.core.display.HTML object>"
      ]
     },
     "metadata": {},
     "output_type": "display_data"
    },
    {
     "data": {
      "text/html": [
       "<style type=\"text/css\">\n",
       "#T_e1a75 th {\n",
       "  text-align: left;\n",
       "}\n",
       "#T_e1a75_row0_col0, #T_e1a75_row0_col2, #T_e1a75_row0_col3, #T_e1a75_row1_col0, #T_e1a75_row1_col2, #T_e1a75_row1_col3, #T_e1a75_row2_col0, #T_e1a75_row2_col1, #T_e1a75_row3_col0, #T_e1a75_row3_col1, #T_e1a75_row3_col2, #T_e1a75_row3_col3, #T_e1a75_row3_col4, #T_e1a75_row3_col5, #T_e1a75_row3_col6, #T_e1a75_row4_col0, #T_e1a75_row4_col1, #T_e1a75_row4_col2, #T_e1a75_row4_col3, #T_e1a75_row4_col4, #T_e1a75_row4_col5, #T_e1a75_row4_col6, #T_e1a75_row5_col0, #T_e1a75_row5_col1, #T_e1a75_row5_col2, #T_e1a75_row5_col3, #T_e1a75_row5_col4, #T_e1a75_row5_col5, #T_e1a75_row5_col6, #T_e1a75_row6_col0, #T_e1a75_row6_col1, #T_e1a75_row6_col2, #T_e1a75_row6_col3, #T_e1a75_row6_col4, #T_e1a75_row6_col5, #T_e1a75_row6_col6, #T_e1a75_row7_col0, #T_e1a75_row7_col1, #T_e1a75_row7_col2, #T_e1a75_row7_col3, #T_e1a75_row7_col4, #T_e1a75_row7_col5, #T_e1a75_row7_col6, #T_e1a75_row8_col0, #T_e1a75_row8_col1, #T_e1a75_row8_col2, #T_e1a75_row8_col3, #T_e1a75_row8_col4, #T_e1a75_row8_col5, #T_e1a75_row8_col6, #T_e1a75_row9_col0, #T_e1a75_row9_col1, #T_e1a75_row9_col2, #T_e1a75_row9_col3, #T_e1a75_row9_col4, #T_e1a75_row9_col5, #T_e1a75_row9_col6, #T_e1a75_row10_col0, #T_e1a75_row10_col1, #T_e1a75_row10_col2, #T_e1a75_row10_col3, #T_e1a75_row10_col4, #T_e1a75_row10_col5, #T_e1a75_row10_col6, #T_e1a75_row11_col0, #T_e1a75_row11_col1, #T_e1a75_row11_col2, #T_e1a75_row11_col3, #T_e1a75_row11_col4, #T_e1a75_row11_col5, #T_e1a75_row11_col6, #T_e1a75_row12_col0, #T_e1a75_row12_col1, #T_e1a75_row12_col2, #T_e1a75_row12_col3, #T_e1a75_row12_col4, #T_e1a75_row12_col5, #T_e1a75_row12_col6, #T_e1a75_row13_col0, #T_e1a75_row13_col1, #T_e1a75_row13_col2, #T_e1a75_row13_col3, #T_e1a75_row13_col4, #T_e1a75_row13_col5, #T_e1a75_row13_col6, #T_e1a75_row14_col0, #T_e1a75_row14_col1, #T_e1a75_row14_col2, #T_e1a75_row14_col3, #T_e1a75_row14_col4, #T_e1a75_row14_col5, #T_e1a75_row14_col6, #T_e1a75_row15_col0, #T_e1a75_row15_col1, #T_e1a75_row15_col2, #T_e1a75_row15_col3, #T_e1a75_row15_col4, #T_e1a75_row15_col5, #T_e1a75_row15_col6, #T_e1a75_row16_col0, #T_e1a75_row16_col1, #T_e1a75_row16_col2, #T_e1a75_row16_col3, #T_e1a75_row16_col4, #T_e1a75_row16_col5, #T_e1a75_row16_col6, #T_e1a75_row17_col0, #T_e1a75_row17_col1, #T_e1a75_row17_col2, #T_e1a75_row17_col3, #T_e1a75_row17_col4, #T_e1a75_row17_col5, #T_e1a75_row17_col6, #T_e1a75_row18_col0, #T_e1a75_row18_col1, #T_e1a75_row18_col2, #T_e1a75_row18_col3, #T_e1a75_row18_col4, #T_e1a75_row18_col5, #T_e1a75_row18_col6 {\n",
       "  text-align: left;\n",
       "}\n",
       "#T_e1a75_row0_col1, #T_e1a75_row0_col4, #T_e1a75_row0_col5, #T_e1a75_row0_col6, #T_e1a75_row1_col1, #T_e1a75_row1_col4, #T_e1a75_row1_col5, #T_e1a75_row1_col6, #T_e1a75_row2_col2, #T_e1a75_row2_col3, #T_e1a75_row2_col4, #T_e1a75_row2_col5, #T_e1a75_row2_col6 {\n",
       "  text-align: left;\n",
       "  background-color: yellow;\n",
       "}\n",
       "#T_e1a75_row0_col7, #T_e1a75_row1_col7, #T_e1a75_row2_col7, #T_e1a75_row3_col7, #T_e1a75_row4_col7, #T_e1a75_row5_col7, #T_e1a75_row6_col7, #T_e1a75_row7_col7, #T_e1a75_row8_col7, #T_e1a75_row9_col7, #T_e1a75_row10_col7, #T_e1a75_row11_col7, #T_e1a75_row12_col7, #T_e1a75_row13_col7, #T_e1a75_row14_col7, #T_e1a75_row15_col7, #T_e1a75_row16_col7, #T_e1a75_row17_col7 {\n",
       "  text-align: left;\n",
       "  background-color: lightgrey;\n",
       "}\n",
       "#T_e1a75_row18_col7 {\n",
       "  text-align: left;\n",
       "  background-color: yellow;\n",
       "  background-color: lightgrey;\n",
       "}\n",
       "</style>\n",
       "<table id=\"T_e1a75\">\n",
       "  <thead>\n",
       "    <tr>\n",
       "      <th class=\"blank level0\" >&nbsp;</th>\n",
       "      <th id=\"T_e1a75_level0_col0\" class=\"col_heading level0 col0\" >Model</th>\n",
       "      <th id=\"T_e1a75_level0_col1\" class=\"col_heading level0 col1\" >MAE</th>\n",
       "      <th id=\"T_e1a75_level0_col2\" class=\"col_heading level0 col2\" >MSE</th>\n",
       "      <th id=\"T_e1a75_level0_col3\" class=\"col_heading level0 col3\" >RMSE</th>\n",
       "      <th id=\"T_e1a75_level0_col4\" class=\"col_heading level0 col4\" >R2</th>\n",
       "      <th id=\"T_e1a75_level0_col5\" class=\"col_heading level0 col5\" >RMSLE</th>\n",
       "      <th id=\"T_e1a75_level0_col6\" class=\"col_heading level0 col6\" >MAPE</th>\n",
       "      <th id=\"T_e1a75_level0_col7\" class=\"col_heading level0 col7\" >TT (Sec)</th>\n",
       "    </tr>\n",
       "  </thead>\n",
       "  <tbody>\n",
       "    <tr>\n",
       "      <th id=\"T_e1a75_level0_row0\" class=\"row_heading level0 row0\" >lr</th>\n",
       "      <td id=\"T_e1a75_row0_col0\" class=\"data row0 col0\" >Linear Regression</td>\n",
       "      <td id=\"T_e1a75_row0_col1\" class=\"data row0 col1\" >8.5022</td>\n",
       "      <td id=\"T_e1a75_row0_col2\" class=\"data row0 col2\" >111.8182</td>\n",
       "      <td id=\"T_e1a75_row0_col3\" class=\"data row0 col3\" >10.5077</td>\n",
       "      <td id=\"T_e1a75_row0_col4\" class=\"data row0 col4\" >0.9830</td>\n",
       "      <td id=\"T_e1a75_row0_col5\" class=\"data row0 col5\" >0.0219</td>\n",
       "      <td id=\"T_e1a75_row0_col6\" class=\"data row0 col6\" >0.0177</td>\n",
       "      <td id=\"T_e1a75_row0_col7\" class=\"data row0 col7\" >0.6970</td>\n",
       "    </tr>\n",
       "    <tr>\n",
       "      <th id=\"T_e1a75_level0_row1\" class=\"row_heading level0 row1\" >lar</th>\n",
       "      <td id=\"T_e1a75_row1_col0\" class=\"data row1 col0\" >Least Angle Regression</td>\n",
       "      <td id=\"T_e1a75_row1_col1\" class=\"data row1 col1\" >8.5022</td>\n",
       "      <td id=\"T_e1a75_row1_col2\" class=\"data row1 col2\" >111.8182</td>\n",
       "      <td id=\"T_e1a75_row1_col3\" class=\"data row1 col3\" >10.5077</td>\n",
       "      <td id=\"T_e1a75_row1_col4\" class=\"data row1 col4\" >0.9830</td>\n",
       "      <td id=\"T_e1a75_row1_col5\" class=\"data row1 col5\" >0.0219</td>\n",
       "      <td id=\"T_e1a75_row1_col6\" class=\"data row1 col6\" >0.0177</td>\n",
       "      <td id=\"T_e1a75_row1_col7\" class=\"data row1 col7\" >0.0520</td>\n",
       "    </tr>\n",
       "    <tr>\n",
       "      <th id=\"T_e1a75_level0_row2\" class=\"row_heading level0 row2\" >br</th>\n",
       "      <td id=\"T_e1a75_row2_col0\" class=\"data row2 col0\" >Bayesian Ridge</td>\n",
       "      <td id=\"T_e1a75_row2_col1\" class=\"data row2 col1\" >8.5061</td>\n",
       "      <td id=\"T_e1a75_row2_col2\" class=\"data row2 col2\" >111.8091</td>\n",
       "      <td id=\"T_e1a75_row2_col3\" class=\"data row2 col3\" >10.5076</td>\n",
       "      <td id=\"T_e1a75_row2_col4\" class=\"data row2 col4\" >0.9830</td>\n",
       "      <td id=\"T_e1a75_row2_col5\" class=\"data row2 col5\" >0.0219</td>\n",
       "      <td id=\"T_e1a75_row2_col6\" class=\"data row2 col6\" >0.0177</td>\n",
       "      <td id=\"T_e1a75_row2_col7\" class=\"data row2 col7\" >0.0550</td>\n",
       "    </tr>\n",
       "    <tr>\n",
       "      <th id=\"T_e1a75_level0_row3\" class=\"row_heading level0 row3\" >ridge</th>\n",
       "      <td id=\"T_e1a75_row3_col0\" class=\"data row3 col0\" >Ridge Regression</td>\n",
       "      <td id=\"T_e1a75_row3_col1\" class=\"data row3 col1\" >8.7794</td>\n",
       "      <td id=\"T_e1a75_row3_col2\" class=\"data row3 col2\" >114.7575</td>\n",
       "      <td id=\"T_e1a75_row3_col3\" class=\"data row3 col3\" >10.6524</td>\n",
       "      <td id=\"T_e1a75_row3_col4\" class=\"data row3 col4\" >0.9826</td>\n",
       "      <td id=\"T_e1a75_row3_col5\" class=\"data row3 col5\" >0.0223</td>\n",
       "      <td id=\"T_e1a75_row3_col6\" class=\"data row3 col6\" >0.0183</td>\n",
       "      <td id=\"T_e1a75_row3_col7\" class=\"data row3 col7\" >0.0650</td>\n",
       "    </tr>\n",
       "    <tr>\n",
       "      <th id=\"T_e1a75_level0_row4\" class=\"row_heading level0 row4\" >lasso</th>\n",
       "      <td id=\"T_e1a75_row4_col0\" class=\"data row4 col0\" >Lasso Regression</td>\n",
       "      <td id=\"T_e1a75_row4_col1\" class=\"data row4 col1\" >9.6062</td>\n",
       "      <td id=\"T_e1a75_row4_col2\" class=\"data row4 col2\" >135.5250</td>\n",
       "      <td id=\"T_e1a75_row4_col3\" class=\"data row4 col3\" >11.5572</td>\n",
       "      <td id=\"T_e1a75_row4_col4\" class=\"data row4 col4\" >0.9799</td>\n",
       "      <td id=\"T_e1a75_row4_col5\" class=\"data row4 col5\" >0.0241</td>\n",
       "      <td id=\"T_e1a75_row4_col6\" class=\"data row4 col6\" >0.0201</td>\n",
       "      <td id=\"T_e1a75_row4_col7\" class=\"data row4 col7\" >0.0570</td>\n",
       "    </tr>\n",
       "    <tr>\n",
       "      <th id=\"T_e1a75_level0_row5\" class=\"row_heading level0 row5\" >llar</th>\n",
       "      <td id=\"T_e1a75_row5_col0\" class=\"data row5 col0\" >Lasso Least Angle Regression</td>\n",
       "      <td id=\"T_e1a75_row5_col1\" class=\"data row5 col1\" >9.6064</td>\n",
       "      <td id=\"T_e1a75_row5_col2\" class=\"data row5 col2\" >135.5295</td>\n",
       "      <td id=\"T_e1a75_row5_col3\" class=\"data row5 col3\" >11.5573</td>\n",
       "      <td id=\"T_e1a75_row5_col4\" class=\"data row5 col4\" >0.9799</td>\n",
       "      <td id=\"T_e1a75_row5_col5\" class=\"data row5 col5\" >0.0241</td>\n",
       "      <td id=\"T_e1a75_row5_col6\" class=\"data row5 col6\" >0.0201</td>\n",
       "      <td id=\"T_e1a75_row5_col7\" class=\"data row5 col7\" >0.0720</td>\n",
       "    </tr>\n",
       "    <tr>\n",
       "      <th id=\"T_e1a75_level0_row6\" class=\"row_heading level0 row6\" >gbr</th>\n",
       "      <td id=\"T_e1a75_row6_col0\" class=\"data row6 col0\" >Gradient Boosting Regressor</td>\n",
       "      <td id=\"T_e1a75_row6_col1\" class=\"data row6 col1\" >10.6267</td>\n",
       "      <td id=\"T_e1a75_row6_col2\" class=\"data row6 col2\" >182.5007</td>\n",
       "      <td id=\"T_e1a75_row6_col3\" class=\"data row6 col3\" >13.3682</td>\n",
       "      <td id=\"T_e1a75_row6_col4\" class=\"data row6 col4\" >0.9721</td>\n",
       "      <td id=\"T_e1a75_row6_col5\" class=\"data row6 col5\" >0.0284</td>\n",
       "      <td id=\"T_e1a75_row6_col6\" class=\"data row6 col6\" >0.0224</td>\n",
       "      <td id=\"T_e1a75_row6_col7\" class=\"data row6 col7\" >0.0980</td>\n",
       "    </tr>\n",
       "    <tr>\n",
       "      <th id=\"T_e1a75_level0_row7\" class=\"row_heading level0 row7\" >huber</th>\n",
       "      <td id=\"T_e1a75_row7_col0\" class=\"data row7 col0\" >Huber Regressor</td>\n",
       "      <td id=\"T_e1a75_row7_col1\" class=\"data row7 col1\" >11.1761</td>\n",
       "      <td id=\"T_e1a75_row7_col2\" class=\"data row7 col2\" >203.3476</td>\n",
       "      <td id=\"T_e1a75_row7_col3\" class=\"data row7 col3\" >14.1767</td>\n",
       "      <td id=\"T_e1a75_row7_col4\" class=\"data row7 col4\" >0.9693</td>\n",
       "      <td id=\"T_e1a75_row7_col5\" class=\"data row7 col5\" >0.0296</td>\n",
       "      <td id=\"T_e1a75_row7_col6\" class=\"data row7 col6\" >0.0235</td>\n",
       "      <td id=\"T_e1a75_row7_col7\" class=\"data row7 col7\" >0.0580</td>\n",
       "    </tr>\n",
       "    <tr>\n",
       "      <th id=\"T_e1a75_level0_row8\" class=\"row_heading level0 row8\" >et</th>\n",
       "      <td id=\"T_e1a75_row8_col0\" class=\"data row8 col0\" >Extra Trees Regressor</td>\n",
       "      <td id=\"T_e1a75_row8_col1\" class=\"data row8 col1\" >11.4145</td>\n",
       "      <td id=\"T_e1a75_row8_col2\" class=\"data row8 col2\" >214.6837</td>\n",
       "      <td id=\"T_e1a75_row8_col3\" class=\"data row8 col3\" >14.4923</td>\n",
       "      <td id=\"T_e1a75_row8_col4\" class=\"data row8 col4\" >0.9679</td>\n",
       "      <td id=\"T_e1a75_row8_col5\" class=\"data row8 col5\" >0.0310</td>\n",
       "      <td id=\"T_e1a75_row8_col6\" class=\"data row8 col6\" >0.0240</td>\n",
       "      <td id=\"T_e1a75_row8_col7\" class=\"data row8 col7\" >0.1440</td>\n",
       "    </tr>\n",
       "    <tr>\n",
       "      <th id=\"T_e1a75_level0_row9\" class=\"row_heading level0 row9\" >xgboost</th>\n",
       "      <td id=\"T_e1a75_row9_col0\" class=\"data row9 col0\" >Extreme Gradient Boosting</td>\n",
       "      <td id=\"T_e1a75_row9_col1\" class=\"data row9 col1\" >11.3830</td>\n",
       "      <td id=\"T_e1a75_row9_col2\" class=\"data row9 col2\" >220.0183</td>\n",
       "      <td id=\"T_e1a75_row9_col3\" class=\"data row9 col3\" >14.7013</td>\n",
       "      <td id=\"T_e1a75_row9_col4\" class=\"data row9 col4\" >0.9673</td>\n",
       "      <td id=\"T_e1a75_row9_col5\" class=\"data row9 col5\" >0.0311</td>\n",
       "      <td id=\"T_e1a75_row9_col6\" class=\"data row9 col6\" >0.0239</td>\n",
       "      <td id=\"T_e1a75_row9_col7\" class=\"data row9 col7\" >0.1060</td>\n",
       "    </tr>\n",
       "    <tr>\n",
       "      <th id=\"T_e1a75_level0_row10\" class=\"row_heading level0 row10\" >lightgbm</th>\n",
       "      <td id=\"T_e1a75_row10_col0\" class=\"data row10 col0\" >Light Gradient Boosting Machine</td>\n",
       "      <td id=\"T_e1a75_row10_col1\" class=\"data row10 col1\" >11.9761</td>\n",
       "      <td id=\"T_e1a75_row10_col2\" class=\"data row10 col2\" >228.4689</td>\n",
       "      <td id=\"T_e1a75_row10_col3\" class=\"data row10 col3\" >14.9781</td>\n",
       "      <td id=\"T_e1a75_row10_col4\" class=\"data row10 col4\" >0.9656</td>\n",
       "      <td id=\"T_e1a75_row10_col5\" class=\"data row10 col5\" >0.0323</td>\n",
       "      <td id=\"T_e1a75_row10_col6\" class=\"data row10 col6\" >0.0254</td>\n",
       "      <td id=\"T_e1a75_row10_col7\" class=\"data row10 col7\" >0.0720</td>\n",
       "    </tr>\n",
       "    <tr>\n",
       "      <th id=\"T_e1a75_level0_row11\" class=\"row_heading level0 row11\" >rf</th>\n",
       "      <td id=\"T_e1a75_row11_col0\" class=\"data row11 col0\" >Random Forest Regressor</td>\n",
       "      <td id=\"T_e1a75_row11_col1\" class=\"data row11 col1\" >11.6362</td>\n",
       "      <td id=\"T_e1a75_row11_col2\" class=\"data row11 col2\" >228.2160</td>\n",
       "      <td id=\"T_e1a75_row11_col3\" class=\"data row11 col3\" >14.9658</td>\n",
       "      <td id=\"T_e1a75_row11_col4\" class=\"data row11 col4\" >0.9653</td>\n",
       "      <td id=\"T_e1a75_row11_col5\" class=\"data row11 col5\" >0.0319</td>\n",
       "      <td id=\"T_e1a75_row11_col6\" class=\"data row11 col6\" >0.0244</td>\n",
       "      <td id=\"T_e1a75_row11_col7\" class=\"data row11 col7\" >0.1530</td>\n",
       "    </tr>\n",
       "    <tr>\n",
       "      <th id=\"T_e1a75_level0_row12\" class=\"row_heading level0 row12\" >ada</th>\n",
       "      <td id=\"T_e1a75_row12_col0\" class=\"data row12 col0\" >AdaBoost Regressor</td>\n",
       "      <td id=\"T_e1a75_row12_col1\" class=\"data row12 col1\" >15.2709</td>\n",
       "      <td id=\"T_e1a75_row12_col2\" class=\"data row12 col2\" >371.4465</td>\n",
       "      <td id=\"T_e1a75_row12_col3\" class=\"data row12 col3\" >19.0956</td>\n",
       "      <td id=\"T_e1a75_row12_col4\" class=\"data row12 col4\" >0.9437</td>\n",
       "      <td id=\"T_e1a75_row12_col5\" class=\"data row12 col5\" >0.0405</td>\n",
       "      <td id=\"T_e1a75_row12_col6\" class=\"data row12 col6\" >0.0323</td>\n",
       "      <td id=\"T_e1a75_row12_col7\" class=\"data row12 col7\" >0.0960</td>\n",
       "    </tr>\n",
       "    <tr>\n",
       "      <th id=\"T_e1a75_level0_row13\" class=\"row_heading level0 row13\" >dt</th>\n",
       "      <td id=\"T_e1a75_row13_col0\" class=\"data row13 col0\" >Decision Tree Regressor</td>\n",
       "      <td id=\"T_e1a75_row13_col1\" class=\"data row13 col1\" >15.1180</td>\n",
       "      <td id=\"T_e1a75_row13_col2\" class=\"data row13 col2\" >373.5233</td>\n",
       "      <td id=\"T_e1a75_row13_col3\" class=\"data row13 col3\" >19.2159</td>\n",
       "      <td id=\"T_e1a75_row13_col4\" class=\"data row13 col4\" >0.9423</td>\n",
       "      <td id=\"T_e1a75_row13_col5\" class=\"data row13 col5\" >0.0406</td>\n",
       "      <td id=\"T_e1a75_row13_col6\" class=\"data row13 col6\" >0.0318</td>\n",
       "      <td id=\"T_e1a75_row13_col7\" class=\"data row13 col7\" >0.0480</td>\n",
       "    </tr>\n",
       "    <tr>\n",
       "      <th id=\"T_e1a75_level0_row14\" class=\"row_heading level0 row14\" >knn</th>\n",
       "      <td id=\"T_e1a75_row14_col0\" class=\"data row14 col0\" >K Neighbors Regressor</td>\n",
       "      <td id=\"T_e1a75_row14_col1\" class=\"data row14 col1\" >34.9701</td>\n",
       "      <td id=\"T_e1a75_row14_col2\" class=\"data row14 col2\" >2532.6899</td>\n",
       "      <td id=\"T_e1a75_row14_col3\" class=\"data row14 col3\" >49.1442</td>\n",
       "      <td id=\"T_e1a75_row14_col4\" class=\"data row14 col4\" >0.6461</td>\n",
       "      <td id=\"T_e1a75_row14_col5\" class=\"data row14 col5\" >0.1021</td>\n",
       "      <td id=\"T_e1a75_row14_col6\" class=\"data row14 col6\" >0.0734</td>\n",
       "      <td id=\"T_e1a75_row14_col7\" class=\"data row14 col7\" >0.0540</td>\n",
       "    </tr>\n",
       "    <tr>\n",
       "      <th id=\"T_e1a75_level0_row15\" class=\"row_heading level0 row15\" >par</th>\n",
       "      <td id=\"T_e1a75_row15_col0\" class=\"data row15 col0\" >Passive Aggressive Regressor</td>\n",
       "      <td id=\"T_e1a75_row15_col1\" class=\"data row15 col1\" >36.1990</td>\n",
       "      <td id=\"T_e1a75_row15_col2\" class=\"data row15 col2\" >2673.1048</td>\n",
       "      <td id=\"T_e1a75_row15_col3\" class=\"data row15 col3\" >45.5906</td>\n",
       "      <td id=\"T_e1a75_row15_col4\" class=\"data row15 col4\" >0.6072</td>\n",
       "      <td id=\"T_e1a75_row15_col5\" class=\"data row15 col5\" >0.0945</td>\n",
       "      <td id=\"T_e1a75_row15_col6\" class=\"data row15 col6\" >0.0747</td>\n",
       "      <td id=\"T_e1a75_row15_col7\" class=\"data row15 col7\" >0.0470</td>\n",
       "    </tr>\n",
       "    <tr>\n",
       "      <th id=\"T_e1a75_level0_row16\" class=\"row_heading level0 row16\" >en</th>\n",
       "      <td id=\"T_e1a75_row16_col0\" class=\"data row16 col0\" >Elastic Net</td>\n",
       "      <td id=\"T_e1a75_row16_col1\" class=\"data row16 col1\" >47.1912</td>\n",
       "      <td id=\"T_e1a75_row16_col2\" class=\"data row16 col2\" >3888.3369</td>\n",
       "      <td id=\"T_e1a75_row16_col3\" class=\"data row16 col3\" >61.6127</td>\n",
       "      <td id=\"T_e1a75_row16_col4\" class=\"data row16 col4\" >0.4466</td>\n",
       "      <td id=\"T_e1a75_row16_col5\" class=\"data row16 col5\" >0.1312</td>\n",
       "      <td id=\"T_e1a75_row16_col6\" class=\"data row16 col6\" >0.1024</td>\n",
       "      <td id=\"T_e1a75_row16_col7\" class=\"data row16 col7\" >0.0500</td>\n",
       "    </tr>\n",
       "    <tr>\n",
       "      <th id=\"T_e1a75_level0_row17\" class=\"row_heading level0 row17\" >omp</th>\n",
       "      <td id=\"T_e1a75_row17_col0\" class=\"data row17 col0\" >Orthogonal Matching Pursuit</td>\n",
       "      <td id=\"T_e1a75_row17_col1\" class=\"data row17 col1\" >61.6935</td>\n",
       "      <td id=\"T_e1a75_row17_col2\" class=\"data row17 col2\" >6549.5530</td>\n",
       "      <td id=\"T_e1a75_row17_col3\" class=\"data row17 col3\" >80.3247</td>\n",
       "      <td id=\"T_e1a75_row17_col4\" class=\"data row17 col4\" >0.0481</td>\n",
       "      <td id=\"T_e1a75_row17_col5\" class=\"data row17 col5\" >0.1690</td>\n",
       "      <td id=\"T_e1a75_row17_col6\" class=\"data row17 col6\" >0.1332</td>\n",
       "      <td id=\"T_e1a75_row17_col7\" class=\"data row17 col7\" >0.0570</td>\n",
       "    </tr>\n",
       "    <tr>\n",
       "      <th id=\"T_e1a75_level0_row18\" class=\"row_heading level0 row18\" >dummy</th>\n",
       "      <td id=\"T_e1a75_row18_col0\" class=\"data row18 col0\" >Dummy Regressor</td>\n",
       "      <td id=\"T_e1a75_row18_col1\" class=\"data row18 col1\" >66.4243</td>\n",
       "      <td id=\"T_e1a75_row18_col2\" class=\"data row18 col2\" >7166.2523</td>\n",
       "      <td id=\"T_e1a75_row18_col3\" class=\"data row18 col3\" >83.7261</td>\n",
       "      <td id=\"T_e1a75_row18_col4\" class=\"data row18 col4\" >-0.0233</td>\n",
       "      <td id=\"T_e1a75_row18_col5\" class=\"data row18 col5\" >0.1764</td>\n",
       "      <td id=\"T_e1a75_row18_col6\" class=\"data row18 col6\" >0.1439</td>\n",
       "      <td id=\"T_e1a75_row18_col7\" class=\"data row18 col7\" >0.0430</td>\n",
       "    </tr>\n",
       "  </tbody>\n",
       "</table>\n"
      ],
      "text/plain": [
       "<pandas.io.formats.style.Styler at 0x25d88805960>"
      ]
     },
     "metadata": {},
     "output_type": "display_data"
    },
    {
     "data": {
      "text/html": [],
      "text/plain": [
       "<IPython.core.display.HTML object>"
      ]
     },
     "metadata": {},
     "output_type": "display_data"
    },
    {
     "name": "stdout",
     "output_type": "stream",
     "text": [
      "CPU times: total: 3.42 s\n",
      "Wall time: 24.5 s\n"
     ]
    }
   ],
   "source": [
    "%%time\n",
    "# Comparación de modelos\n",
    "best_model = compare_models() ## accuracy"
   ]
  },
  {
   "cell_type": "markdown",
   "id": "e5c2b222-3da3-4237-802e-17de6437c19f",
   "metadata": {},
   "source": [
    "## Ejercicio\n",
    "\n",
    "Construya una API en streamlit con un modelo Ridge por medio de un optimizador Bayesiano siguiendo la misma metodología de la retroalimentación de ayer\n",
    "\n",
    "Hora de entrega: 9:40 pm"
   ]
  },
  {
   "cell_type": "code",
   "execution_count": 21,
   "id": "92abfb69-9d82-402d-941d-14092a562337",
   "metadata": {},
   "outputs": [
    {
     "data": {
      "text/html": [],
      "text/plain": [
       "<IPython.core.display.HTML object>"
      ]
     },
     "metadata": {},
     "output_type": "display_data"
    },
    {
     "data": {
      "text/html": [
       "<style type=\"text/css\">\n",
       "#T_e234e_row10_col0, #T_e234e_row10_col1, #T_e234e_row10_col2, #T_e234e_row10_col3, #T_e234e_row10_col4, #T_e234e_row10_col5 {\n",
       "  background: yellow;\n",
       "}\n",
       "</style>\n",
       "<table id=\"T_e234e\">\n",
       "  <thead>\n",
       "    <tr>\n",
       "      <th class=\"blank level0\" >&nbsp;</th>\n",
       "      <th id=\"T_e234e_level0_col0\" class=\"col_heading level0 col0\" >MAE</th>\n",
       "      <th id=\"T_e234e_level0_col1\" class=\"col_heading level0 col1\" >MSE</th>\n",
       "      <th id=\"T_e234e_level0_col2\" class=\"col_heading level0 col2\" >RMSE</th>\n",
       "      <th id=\"T_e234e_level0_col3\" class=\"col_heading level0 col3\" >R2</th>\n",
       "      <th id=\"T_e234e_level0_col4\" class=\"col_heading level0 col4\" >RMSLE</th>\n",
       "      <th id=\"T_e234e_level0_col5\" class=\"col_heading level0 col5\" >MAPE</th>\n",
       "    </tr>\n",
       "    <tr>\n",
       "      <th class=\"index_name level0\" >Fold</th>\n",
       "      <th class=\"blank col0\" >&nbsp;</th>\n",
       "      <th class=\"blank col1\" >&nbsp;</th>\n",
       "      <th class=\"blank col2\" >&nbsp;</th>\n",
       "      <th class=\"blank col3\" >&nbsp;</th>\n",
       "      <th class=\"blank col4\" >&nbsp;</th>\n",
       "      <th class=\"blank col5\" >&nbsp;</th>\n",
       "    </tr>\n",
       "  </thead>\n",
       "  <tbody>\n",
       "    <tr>\n",
       "      <th id=\"T_e234e_level0_row0\" class=\"row_heading level0 row0\" >0</th>\n",
       "      <td id=\"T_e234e_row0_col0\" class=\"data row0 col0\" >8.9530</td>\n",
       "      <td id=\"T_e234e_row0_col1\" class=\"data row0 col1\" >128.7901</td>\n",
       "      <td id=\"T_e234e_row0_col2\" class=\"data row0 col2\" >11.3486</td>\n",
       "      <td id=\"T_e234e_row0_col3\" class=\"data row0 col3\" >0.9866</td>\n",
       "      <td id=\"T_e234e_row0_col4\" class=\"data row0 col4\" >0.0226</td>\n",
       "      <td id=\"T_e234e_row0_col5\" class=\"data row0 col5\" >0.0183</td>\n",
       "    </tr>\n",
       "    <tr>\n",
       "      <th id=\"T_e234e_level0_row1\" class=\"row_heading level0 row1\" >1</th>\n",
       "      <td id=\"T_e234e_row1_col0\" class=\"data row1 col0\" >7.9197</td>\n",
       "      <td id=\"T_e234e_row1_col1\" class=\"data row1 col1\" >92.0253</td>\n",
       "      <td id=\"T_e234e_row1_col2\" class=\"data row1 col2\" >9.5930</td>\n",
       "      <td id=\"T_e234e_row1_col3\" class=\"data row1 col3\" >0.9869</td>\n",
       "      <td id=\"T_e234e_row1_col4\" class=\"data row1 col4\" >0.0201</td>\n",
       "      <td id=\"T_e234e_row1_col5\" class=\"data row1 col5\" >0.0167</td>\n",
       "    </tr>\n",
       "    <tr>\n",
       "      <th id=\"T_e234e_level0_row2\" class=\"row_heading level0 row2\" >2</th>\n",
       "      <td id=\"T_e234e_row2_col0\" class=\"data row2 col0\" >8.0164</td>\n",
       "      <td id=\"T_e234e_row2_col1\" class=\"data row2 col1\" >93.2436</td>\n",
       "      <td id=\"T_e234e_row2_col2\" class=\"data row2 col2\" >9.6563</td>\n",
       "      <td id=\"T_e234e_row2_col3\" class=\"data row2 col3\" >0.9863</td>\n",
       "      <td id=\"T_e234e_row2_col4\" class=\"data row2 col4\" >0.0192</td>\n",
       "      <td id=\"T_e234e_row2_col5\" class=\"data row2 col5\" >0.0166</td>\n",
       "    </tr>\n",
       "    <tr>\n",
       "      <th id=\"T_e234e_level0_row3\" class=\"row_heading level0 row3\" >3</th>\n",
       "      <td id=\"T_e234e_row3_col0\" class=\"data row3 col0\" >8.7590</td>\n",
       "      <td id=\"T_e234e_row3_col1\" class=\"data row3 col1\" >107.0550</td>\n",
       "      <td id=\"T_e234e_row3_col2\" class=\"data row3 col2\" >10.3467</td>\n",
       "      <td id=\"T_e234e_row3_col3\" class=\"data row3 col3\" >0.9871</td>\n",
       "      <td id=\"T_e234e_row3_col4\" class=\"data row3 col4\" >0.0229</td>\n",
       "      <td id=\"T_e234e_row3_col5\" class=\"data row3 col5\" >0.0192</td>\n",
       "    </tr>\n",
       "    <tr>\n",
       "      <th id=\"T_e234e_level0_row4\" class=\"row_heading level0 row4\" >4</th>\n",
       "      <td id=\"T_e234e_row4_col0\" class=\"data row4 col0\" >8.3257</td>\n",
       "      <td id=\"T_e234e_row4_col1\" class=\"data row4 col1\" >97.0050</td>\n",
       "      <td id=\"T_e234e_row4_col2\" class=\"data row4 col2\" >9.8491</td>\n",
       "      <td id=\"T_e234e_row4_col3\" class=\"data row4 col3\" >0.9790</td>\n",
       "      <td id=\"T_e234e_row4_col4\" class=\"data row4 col4\" >0.0213</td>\n",
       "      <td id=\"T_e234e_row4_col5\" class=\"data row4 col5\" >0.0176</td>\n",
       "    </tr>\n",
       "    <tr>\n",
       "      <th id=\"T_e234e_level0_row5\" class=\"row_heading level0 row5\" >5</th>\n",
       "      <td id=\"T_e234e_row5_col0\" class=\"data row5 col0\" >7.6757</td>\n",
       "      <td id=\"T_e234e_row5_col1\" class=\"data row5 col1\" >89.7099</td>\n",
       "      <td id=\"T_e234e_row5_col2\" class=\"data row5 col2\" >9.4715</td>\n",
       "      <td id=\"T_e234e_row5_col3\" class=\"data row5 col3\" >0.9826</td>\n",
       "      <td id=\"T_e234e_row5_col4\" class=\"data row5 col4\" >0.0199</td>\n",
       "      <td id=\"T_e234e_row5_col5\" class=\"data row5 col5\" >0.0161</td>\n",
       "    </tr>\n",
       "    <tr>\n",
       "      <th id=\"T_e234e_level0_row6\" class=\"row_heading level0 row6\" >6</th>\n",
       "      <td id=\"T_e234e_row6_col0\" class=\"data row6 col0\" >10.1416</td>\n",
       "      <td id=\"T_e234e_row6_col1\" class=\"data row6 col1\" >171.7096</td>\n",
       "      <td id=\"T_e234e_row6_col2\" class=\"data row6 col2\" >13.1038</td>\n",
       "      <td id=\"T_e234e_row6_col3\" class=\"data row6 col3\" >0.9851</td>\n",
       "      <td id=\"T_e234e_row6_col4\" class=\"data row6 col4\" >0.0275</td>\n",
       "      <td id=\"T_e234e_row6_col5\" class=\"data row6 col5\" >0.0209</td>\n",
       "    </tr>\n",
       "    <tr>\n",
       "      <th id=\"T_e234e_level0_row7\" class=\"row_heading level0 row7\" >7</th>\n",
       "      <td id=\"T_e234e_row7_col0\" class=\"data row7 col0\" >8.6775</td>\n",
       "      <td id=\"T_e234e_row7_col1\" class=\"data row7 col1\" >103.9082</td>\n",
       "      <td id=\"T_e234e_row7_col2\" class=\"data row7 col2\" >10.1935</td>\n",
       "      <td id=\"T_e234e_row7_col3\" class=\"data row7 col3\" >0.9856</td>\n",
       "      <td id=\"T_e234e_row7_col4\" class=\"data row7 col4\" >0.0211</td>\n",
       "      <td id=\"T_e234e_row7_col5\" class=\"data row7 col5\" >0.0174</td>\n",
       "    </tr>\n",
       "    <tr>\n",
       "      <th id=\"T_e234e_level0_row8\" class=\"row_heading level0 row8\" >8</th>\n",
       "      <td id=\"T_e234e_row8_col0\" class=\"data row8 col0\" >9.9808</td>\n",
       "      <td id=\"T_e234e_row8_col1\" class=\"data row8 col1\" >143.7494</td>\n",
       "      <td id=\"T_e234e_row8_col2\" class=\"data row8 col2\" >11.9896</td>\n",
       "      <td id=\"T_e234e_row8_col3\" class=\"data row8 col3\" >0.9704</td>\n",
       "      <td id=\"T_e234e_row8_col4\" class=\"data row8 col4\" >0.0268</td>\n",
       "      <td id=\"T_e234e_row8_col5\" class=\"data row8 col5\" >0.0218</td>\n",
       "    </tr>\n",
       "    <tr>\n",
       "      <th id=\"T_e234e_level0_row9\" class=\"row_heading level0 row9\" >9</th>\n",
       "      <td id=\"T_e234e_row9_col0\" class=\"data row9 col0\" >9.3445</td>\n",
       "      <td id=\"T_e234e_row9_col1\" class=\"data row9 col1\" >120.3793</td>\n",
       "      <td id=\"T_e234e_row9_col2\" class=\"data row9 col2\" >10.9718</td>\n",
       "      <td id=\"T_e234e_row9_col3\" class=\"data row9 col3\" >0.9762</td>\n",
       "      <td id=\"T_e234e_row9_col4\" class=\"data row9 col4\" >0.0215</td>\n",
       "      <td id=\"T_e234e_row9_col5\" class=\"data row9 col5\" >0.0188</td>\n",
       "    </tr>\n",
       "    <tr>\n",
       "      <th id=\"T_e234e_level0_row10\" class=\"row_heading level0 row10\" >Mean</th>\n",
       "      <td id=\"T_e234e_row10_col0\" class=\"data row10 col0\" >8.7794</td>\n",
       "      <td id=\"T_e234e_row10_col1\" class=\"data row10 col1\" >114.7575</td>\n",
       "      <td id=\"T_e234e_row10_col2\" class=\"data row10 col2\" >10.6524</td>\n",
       "      <td id=\"T_e234e_row10_col3\" class=\"data row10 col3\" >0.9826</td>\n",
       "      <td id=\"T_e234e_row10_col4\" class=\"data row10 col4\" >0.0223</td>\n",
       "      <td id=\"T_e234e_row10_col5\" class=\"data row10 col5\" >0.0183</td>\n",
       "    </tr>\n",
       "    <tr>\n",
       "      <th id=\"T_e234e_level0_row11\" class=\"row_heading level0 row11\" >Std</th>\n",
       "      <td id=\"T_e234e_row11_col0\" class=\"data row11 col0\" >0.8003</td>\n",
       "      <td id=\"T_e234e_row11_col1\" class=\"data row11 col1\" >25.3215</td>\n",
       "      <td id=\"T_e234e_row11_col2\" class=\"data row11 col2\" >1.1332</td>\n",
       "      <td id=\"T_e234e_row11_col3\" class=\"data row11 col3\" >0.0054</td>\n",
       "      <td id=\"T_e234e_row11_col4\" class=\"data row11 col4\" >0.0027</td>\n",
       "      <td id=\"T_e234e_row11_col5\" class=\"data row11 col5\" >0.0018</td>\n",
       "    </tr>\n",
       "  </tbody>\n",
       "</table>\n"
      ],
      "text/plain": [
       "<pandas.io.formats.style.Styler at 0x25d8835f4c0>"
      ]
     },
     "metadata": {},
     "output_type": "display_data"
    },
    {
     "data": {
      "text/html": [],
      "text/plain": [
       "<IPython.core.display.HTML object>"
      ]
     },
     "metadata": {},
     "output_type": "display_data"
    }
   ],
   "source": [
    "dt = create_model('ridge')"
   ]
  },
  {
   "cell_type": "code",
   "execution_count": 22,
   "id": "247213fb-9eb8-42ef-9be9-30156863f22c",
   "metadata": {},
   "outputs": [
    {
     "data": {
      "text/plain": [
       "{'alpha': 1.0,\n",
       " 'copy_X': True,\n",
       " 'fit_intercept': True,\n",
       " 'max_iter': None,\n",
       " 'positive': False,\n",
       " 'random_state': 123,\n",
       " 'solver': 'auto',\n",
       " 'tol': 0.0001}"
      ]
     },
     "execution_count": 22,
     "metadata": {},
     "output_type": "execute_result"
    }
   ],
   "source": [
    "from pycaret.regression import *\n",
    "hyperparameters = dt.get_params()\n",
    "hyperparameters"
   ]
  },
  {
   "cell_type": "code",
   "execution_count": 23,
   "id": "c75c7de5-e3a8-4d1b-92b5-19f9205d7ace",
   "metadata": {},
   "outputs": [
    {
     "data": {
      "text/html": [],
      "text/plain": [
       "<IPython.core.display.HTML object>"
      ]
     },
     "metadata": {},
     "output_type": "display_data"
    },
    {
     "data": {
      "text/html": [
       "<style type=\"text/css\">\n",
       "#T_da130_row5_col0, #T_da130_row5_col1, #T_da130_row5_col2, #T_da130_row5_col3, #T_da130_row5_col4, #T_da130_row5_col5 {\n",
       "  background: yellow;\n",
       "}\n",
       "</style>\n",
       "<table id=\"T_da130\">\n",
       "  <thead>\n",
       "    <tr>\n",
       "      <th class=\"blank level0\" >&nbsp;</th>\n",
       "      <th id=\"T_da130_level0_col0\" class=\"col_heading level0 col0\" >MAE</th>\n",
       "      <th id=\"T_da130_level0_col1\" class=\"col_heading level0 col1\" >MSE</th>\n",
       "      <th id=\"T_da130_level0_col2\" class=\"col_heading level0 col2\" >RMSE</th>\n",
       "      <th id=\"T_da130_level0_col3\" class=\"col_heading level0 col3\" >R2</th>\n",
       "      <th id=\"T_da130_level0_col4\" class=\"col_heading level0 col4\" >RMSLE</th>\n",
       "      <th id=\"T_da130_level0_col5\" class=\"col_heading level0 col5\" >MAPE</th>\n",
       "    </tr>\n",
       "    <tr>\n",
       "      <th class=\"index_name level0\" >Fold</th>\n",
       "      <th class=\"blank col0\" >&nbsp;</th>\n",
       "      <th class=\"blank col1\" >&nbsp;</th>\n",
       "      <th class=\"blank col2\" >&nbsp;</th>\n",
       "      <th class=\"blank col3\" >&nbsp;</th>\n",
       "      <th class=\"blank col4\" >&nbsp;</th>\n",
       "      <th class=\"blank col5\" >&nbsp;</th>\n",
       "    </tr>\n",
       "  </thead>\n",
       "  <tbody>\n",
       "    <tr>\n",
       "      <th id=\"T_da130_level0_row0\" class=\"row_heading level0 row0\" >0</th>\n",
       "      <td id=\"T_da130_row0_col0\" class=\"data row0 col0\" >28.6865</td>\n",
       "      <td id=\"T_da130_row0_col1\" class=\"data row0 col1\" >1404.9241</td>\n",
       "      <td id=\"T_da130_row0_col2\" class=\"data row0 col2\" >37.4823</td>\n",
       "      <td id=\"T_da130_row0_col3\" class=\"data row0 col3\" >0.8318</td>\n",
       "      <td id=\"T_da130_row0_col4\" class=\"data row0 col4\" >0.0808</td>\n",
       "      <td id=\"T_da130_row0_col5\" class=\"data row0 col5\" >0.0623</td>\n",
       "    </tr>\n",
       "    <tr>\n",
       "      <th id=\"T_da130_level0_row1\" class=\"row_heading level0 row1\" >1</th>\n",
       "      <td id=\"T_da130_row1_col0\" class=\"data row1 col0\" >28.9372</td>\n",
       "      <td id=\"T_da130_row1_col1\" class=\"data row1 col1\" >1336.9564</td>\n",
       "      <td id=\"T_da130_row1_col2\" class=\"data row1 col2\" >36.5644</td>\n",
       "      <td id=\"T_da130_row1_col3\" class=\"data row1 col3\" >0.8237</td>\n",
       "      <td id=\"T_da130_row1_col4\" class=\"data row1 col4\" >0.0861</td>\n",
       "      <td id=\"T_da130_row1_col5\" class=\"data row1 col5\" >0.0674</td>\n",
       "    </tr>\n",
       "    <tr>\n",
       "      <th id=\"T_da130_level0_row2\" class=\"row_heading level0 row2\" >2</th>\n",
       "      <td id=\"T_da130_row2_col0\" class=\"data row2 col0\" >21.5702</td>\n",
       "      <td id=\"T_da130_row2_col1\" class=\"data row2 col1\" >842.8944</td>\n",
       "      <td id=\"T_da130_row2_col2\" class=\"data row2 col2\" >29.0326</td>\n",
       "      <td id=\"T_da130_row2_col3\" class=\"data row2 col3\" >0.8303</td>\n",
       "      <td id=\"T_da130_row2_col4\" class=\"data row2 col4\" >0.0591</td>\n",
       "      <td id=\"T_da130_row2_col5\" class=\"data row2 col5\" >0.0442</td>\n",
       "    </tr>\n",
       "    <tr>\n",
       "      <th id=\"T_da130_level0_row3\" class=\"row_heading level0 row3\" >3</th>\n",
       "      <td id=\"T_da130_row3_col0\" class=\"data row3 col0\" >33.6495</td>\n",
       "      <td id=\"T_da130_row3_col1\" class=\"data row3 col1\" >1736.4464</td>\n",
       "      <td id=\"T_da130_row3_col2\" class=\"data row3 col2\" >41.6707</td>\n",
       "      <td id=\"T_da130_row3_col3\" class=\"data row3 col3\" >0.8167</td>\n",
       "      <td id=\"T_da130_row3_col4\" class=\"data row3 col4\" >0.0845</td>\n",
       "      <td id=\"T_da130_row3_col5\" class=\"data row3 col5\" >0.0687</td>\n",
       "    </tr>\n",
       "    <tr>\n",
       "      <th id=\"T_da130_level0_row4\" class=\"row_heading level0 row4\" >4</th>\n",
       "      <td id=\"T_da130_row4_col0\" class=\"data row4 col0\" >20.3594</td>\n",
       "      <td id=\"T_da130_row4_col1\" class=\"data row4 col1\" >850.4762</td>\n",
       "      <td id=\"T_da130_row4_col2\" class=\"data row4 col2\" >29.1629</td>\n",
       "      <td id=\"T_da130_row4_col3\" class=\"data row4 col3\" >0.8282</td>\n",
       "      <td id=\"T_da130_row4_col4\" class=\"data row4 col4\" >0.0672</td>\n",
       "      <td id=\"T_da130_row4_col5\" class=\"data row4 col5\" >0.0460</td>\n",
       "    </tr>\n",
       "    <tr>\n",
       "      <th id=\"T_da130_level0_row5\" class=\"row_heading level0 row5\" >Mean</th>\n",
       "      <td id=\"T_da130_row5_col0\" class=\"data row5 col0\" >26.6406</td>\n",
       "      <td id=\"T_da130_row5_col1\" class=\"data row5 col1\" >1234.3395</td>\n",
       "      <td id=\"T_da130_row5_col2\" class=\"data row5 col2\" >34.7826</td>\n",
       "      <td id=\"T_da130_row5_col3\" class=\"data row5 col3\" >0.8261</td>\n",
       "      <td id=\"T_da130_row5_col4\" class=\"data row5 col4\" >0.0755</td>\n",
       "      <td id=\"T_da130_row5_col5\" class=\"data row5 col5\" >0.0577</td>\n",
       "    </tr>\n",
       "    <tr>\n",
       "      <th id=\"T_da130_level0_row6\" class=\"row_heading level0 row6\" >Std</th>\n",
       "      <td id=\"T_da130_row6_col0\" class=\"data row6 col0\" >4.9749</td>\n",
       "      <td id=\"T_da130_row6_col1\" class=\"data row6 col1\" >344.1863</td>\n",
       "      <td id=\"T_da130_row6_col2\" class=\"data row6 col2\" >4.9508</td>\n",
       "      <td id=\"T_da130_row6_col3\" class=\"data row6 col3\" >0.0054</td>\n",
       "      <td id=\"T_da130_row6_col4\" class=\"data row6 col4\" >0.0106</td>\n",
       "      <td id=\"T_da130_row6_col5\" class=\"data row6 col5\" >0.0106</td>\n",
       "    </tr>\n",
       "  </tbody>\n",
       "</table>\n"
      ],
      "text/plain": [
       "<pandas.io.formats.style.Styler at 0x25d8464ac20>"
      ]
     },
     "metadata": {},
     "output_type": "display_data"
    },
    {
     "data": {
      "text/html": [],
      "text/plain": [
       "<IPython.core.display.HTML object>"
      ]
     },
     "metadata": {},
     "output_type": "display_data"
    },
    {
     "name": "stdout",
     "output_type": "stream",
     "text": [
      "Fitting 5 folds for each of 1 candidates, totalling 5 fits\n",
      "Fitting 5 folds for each of 1 candidates, totalling 5 fits\n",
      "Fitting 5 folds for each of 1 candidates, totalling 5 fits\n",
      "Fitting 5 folds for each of 1 candidates, totalling 5 fits\n",
      "Fitting 5 folds for each of 1 candidates, totalling 5 fits\n",
      "Fitting 5 folds for each of 1 candidates, totalling 5 fits\n",
      "Fitting 5 folds for each of 1 candidates, totalling 5 fits\n",
      "Fitting 5 folds for each of 1 candidates, totalling 5 fits\n",
      "Fitting 5 folds for each of 1 candidates, totalling 5 fits\n",
      "Fitting 5 folds for each of 1 candidates, totalling 5 fits\n",
      "Original model was better than the tuned model, hence it will be returned. NOTE: The display metrics are for the tuned model (not the original one).\n"
     ]
    }
   ],
   "source": [
    "param_grid_bayesian = {\n",
    "    'alpha': np.arange(1,1001,1)\n",
    "}\n",
    "# Perform Bayesian Search\n",
    "tuned_dt = tune_model(dt, custom_grid=param_grid_bayesian, search_library='scikit-optimize', search_algorithm='bayesian',fold=5)"
   ]
  },
  {
   "cell_type": "code",
   "execution_count": 24,
   "id": "4c1efc57-a92c-42e8-9e60-a8b4779c3340",
   "metadata": {},
   "outputs": [
    {
     "data": {
      "application/vnd.jupyter.widget-view+json": {
       "model_id": "e4c8e6f3bce74bdd9f46e22bfdb94ac8",
       "version_major": 2,
       "version_minor": 0
      },
      "text/plain": [
       "interactive(children=(ToggleButtons(description='Plot Type:', icons=('',), options=(('Pipeline Plot', 'pipelin…"
      ]
     },
     "metadata": {},
     "output_type": "display_data"
    }
   ],
   "source": [
    "evaluate_model(tuned_dt)"
   ]
  },
  {
   "cell_type": "code",
   "execution_count": 25,
   "id": "ca61cbb1-8b68-45d1-a320-9e24f35767ab",
   "metadata": {},
   "outputs": [
    {
     "data": {
      "text/html": [
       "<style type=\"text/css\">\n",
       "</style>\n",
       "<table id=\"T_46038\">\n",
       "  <thead>\n",
       "    <tr>\n",
       "      <th class=\"blank level0\" >&nbsp;</th>\n",
       "      <th id=\"T_46038_level0_col0\" class=\"col_heading level0 col0\" >Model</th>\n",
       "      <th id=\"T_46038_level0_col1\" class=\"col_heading level0 col1\" >MAE</th>\n",
       "      <th id=\"T_46038_level0_col2\" class=\"col_heading level0 col2\" >MSE</th>\n",
       "      <th id=\"T_46038_level0_col3\" class=\"col_heading level0 col3\" >RMSE</th>\n",
       "      <th id=\"T_46038_level0_col4\" class=\"col_heading level0 col4\" >R2</th>\n",
       "      <th id=\"T_46038_level0_col5\" class=\"col_heading level0 col5\" >RMSLE</th>\n",
       "      <th id=\"T_46038_level0_col6\" class=\"col_heading level0 col6\" >MAPE</th>\n",
       "    </tr>\n",
       "  </thead>\n",
       "  <tbody>\n",
       "    <tr>\n",
       "      <th id=\"T_46038_level0_row0\" class=\"row_heading level0 row0\" >0</th>\n",
       "      <td id=\"T_46038_row0_col0\" class=\"data row0 col0\" >Ridge Regression</td>\n",
       "      <td id=\"T_46038_row0_col1\" class=\"data row0 col1\" >7.1022</td>\n",
       "      <td id=\"T_46038_row0_col2\" class=\"data row0 col2\" >84.9182</td>\n",
       "      <td id=\"T_46038_row0_col3\" class=\"data row0 col3\" >9.2151</td>\n",
       "      <td id=\"T_46038_row0_col4\" class=\"data row0 col4\" >0.9882</td>\n",
       "      <td id=\"T_46038_row0_col5\" class=\"data row0 col5\" >0.0201</td>\n",
       "      <td id=\"T_46038_row0_col6\" class=\"data row0 col6\" >0.0151</td>\n",
       "    </tr>\n",
       "  </tbody>\n",
       "</table>\n"
      ],
      "text/plain": [
       "<pandas.io.formats.style.Styler at 0x25d87f15ff0>"
      ]
     },
     "metadata": {},
     "output_type": "display_data"
    }
   ],
   "source": [
    "predictions_test = predict_model(tuned_dt)"
   ]
  },
  {
   "cell_type": "code",
   "execution_count": 26,
   "id": "b4a005cd-c8db-4464-bcd1-4becebf99651",
   "metadata": {},
   "outputs": [
    {
     "data": {
      "text/html": [],
      "text/plain": [
       "<IPython.core.display.HTML object>"
      ]
     },
     "metadata": {},
     "output_type": "display_data"
    }
   ],
   "source": [
    "predictions_train = predict_model(tuned_dt, data=exp_clf101.get_config('X_train'))"
   ]
  },
  {
   "cell_type": "code",
   "execution_count": 27,
   "id": "0855ebf3-6997-4c78-bccf-8704a16b4b79",
   "metadata": {},
   "outputs": [],
   "source": [
    "y_train = get_config('y_train')\n",
    "y_test = get_config('y_test')"
   ]
  },
  {
   "cell_type": "code",
   "execution_count": 28,
   "id": "b1ef0b56-7cf0-4fee-b6e3-76acf23330d7",
   "metadata": {},
   "outputs": [
    {
     "name": "stdout",
     "output_type": "stream",
     "text": [
      "106.2620455135176\n",
      "84.91818066459535\n"
     ]
    }
   ],
   "source": [
    "from sklearn.metrics import mean_squared_error\n",
    "# Error de entrenamiento\n",
    "print(mean_squared_error(y_train,predictions_train[\"prediction_label\"]))\n",
    "# Error de test\n",
    "print(mean_squared_error(y_test,predictions_test[\"prediction_label\"]))"
   ]
  },
  {
   "cell_type": "code",
   "execution_count": 29,
   "id": "e0dab698-7b7c-4206-8b26-da3746a193d5",
   "metadata": {},
   "outputs": [],
   "source": [
    "final_dt = finalize_model(tuned_dt)"
   ]
  },
  {
   "cell_type": "code",
   "execution_count": 30,
   "id": "250f607f-dfd7-491c-890f-95dfd7365455",
   "metadata": {},
   "outputs": [],
   "source": [
    "path2 = \"D:/Downloads/INTELIGENCIA ARTIFICIAL/actividad individual/\""
   ]
  },
  {
   "cell_type": "code",
   "execution_count": 31,
   "id": "e9a3ae5d-bad9-46fa-bff2-76c5b9560b68",
   "metadata": {},
   "outputs": [],
   "source": [
    "import pickle\n",
    "with open(path2 + 'best_model.pkl', 'wb') as model_file:\n",
    "    pickle.dump(final_dt, model_file)"
   ]
  },
  {
   "cell_type": "markdown",
   "id": "64924573-2709-43fc-a9c8-6b4bfd486707",
   "metadata": {},
   "source": [
    "## DISEÑO API"
   ]
  },
  {
   "cell_type": "code",
   "execution_count": 32,
   "id": "394369af-a8c0-482f-a693-327cde3eee47",
   "metadata": {},
   "outputs": [
    {
     "data": {
      "text/html": [
       "<div>\n",
       "<style scoped>\n",
       "    .dataframe tbody tr th:only-of-type {\n",
       "        vertical-align: middle;\n",
       "    }\n",
       "\n",
       "    .dataframe tbody tr th {\n",
       "        vertical-align: top;\n",
       "    }\n",
       "\n",
       "    .dataframe thead th {\n",
       "        text-align: right;\n",
       "    }\n",
       "</style>\n",
       "<table border=\"1\" class=\"dataframe\">\n",
       "  <thead>\n",
       "    <tr style=\"text-align: right;\">\n",
       "      <th></th>\n",
       "      <th>Avg. Session Length</th>\n",
       "      <th>Time on App</th>\n",
       "      <th>Time on Website</th>\n",
       "      <th>Length of Membership</th>\n",
       "      <th>dominio</th>\n",
       "      <th>Tec</th>\n",
       "      <th>y</th>\n",
       "    </tr>\n",
       "  </thead>\n",
       "  <tbody>\n",
       "    <tr>\n",
       "      <th>0</th>\n",
       "      <td>32.063775</td>\n",
       "      <td>10.71915</td>\n",
       "      <td>37.712509</td>\n",
       "      <td>3.004743</td>\n",
       "      <td>gmail</td>\n",
       "      <td>Smartphone</td>\n",
       "      <td>503.0</td>\n",
       "    </tr>\n",
       "  </tbody>\n",
       "</table>\n",
       "</div>"
      ],
      "text/plain": [
       "   Avg. Session Length  Time on App  Time on Website  Length of Membership  \\\n",
       "0            32.063775     10.71915        37.712509              3.004743   \n",
       "\n",
       "  dominio         Tec      y  \n",
       "0   gmail  Smartphone  503.0  "
      ]
     },
     "execution_count": 32,
     "metadata": {},
     "output_type": "execute_result"
    }
   ],
   "source": [
    "base_modelo.head(1)\n"
   ]
  },
  {
   "cell_type": "code",
   "execution_count": 33,
   "id": "9dd20d16-f3f3-4a23-a6f8-7b4cf8548eb7",
   "metadata": {},
   "outputs": [
    {
     "data": {
      "text/html": [
       "<div>\n",
       "<style scoped>\n",
       "    .dataframe tbody tr th:only-of-type {\n",
       "        vertical-align: middle;\n",
       "    }\n",
       "\n",
       "    .dataframe tbody tr th {\n",
       "        vertical-align: top;\n",
       "    }\n",
       "\n",
       "    .dataframe thead th {\n",
       "        text-align: right;\n",
       "    }\n",
       "</style>\n",
       "<table border=\"1\" class=\"dataframe\">\n",
       "  <thead>\n",
       "    <tr style=\"text-align: right;\">\n",
       "      <th></th>\n",
       "      <th>Avg. Session Length</th>\n",
       "      <th>Time on App</th>\n",
       "      <th>Time on Website</th>\n",
       "      <th>Length of Membership</th>\n",
       "      <th>dominio</th>\n",
       "      <th>Tec</th>\n",
       "    </tr>\n",
       "  </thead>\n",
       "  <tbody>\n",
       "    <tr>\n",
       "      <th>0</th>\n",
       "      <td>32.063775</td>\n",
       "      <td>10.71915</td>\n",
       "      <td>37.712509</td>\n",
       "      <td>3.004743</td>\n",
       "      <td>gmail</td>\n",
       "      <td>Smartphone</td>\n",
       "    </tr>\n",
       "  </tbody>\n",
       "</table>\n",
       "</div>"
      ],
      "text/plain": [
       "   Avg. Session Length  Time on App  Time on Website  Length of Membership  \\\n",
       "0            32.063775     10.71915        37.712509              3.004743   \n",
       "\n",
       "  dominio         Tec  \n",
       "0   gmail  Smartphone  "
      ]
     },
     "execution_count": 33,
     "metadata": {},
     "output_type": "execute_result"
    }
   ],
   "source": [
    "base_modelo = base_modelo.drop('y', axis=1)\n",
    "base_modelo.head(1)"
   ]
  },
  {
   "cell_type": "code",
   "execution_count": 34,
   "id": "94f70407-957a-4d70-b42d-b3940b1f0b1e",
   "metadata": {},
   "outputs": [],
   "source": [
    "Avg = 32.063775\t\n",
    "time_app = 10.71915\t\n",
    "time_web = 37.712509\n",
    "lenght_mem = 3.004743\n",
    "dominio = \"gmail\" ## select box ['Otro', 'hotmail', 'yahoo']\n",
    "tec = \"Smartphone\" ## select box ['Portatil', 'PC', 'Iphone']"
   ]
  },
  {
   "cell_type": "code",
   "execution_count": 35,
   "id": "30b865c5-0baf-44df-a51b-db7bee88dcd5",
   "metadata": {},
   "outputs": [],
   "source": [
    "user = pd.DataFrame({'x1':[Avg],'x2': [time_app],'x3': [time_web], 'x4': [lenght_mem], 'x5': [dominio], 'x6':[tec]})\n",
    "user.columns = base_modelo.columns"
   ]
  },
  {
   "cell_type": "code",
   "execution_count": 37,
   "id": "41d5c6e0-e142-4b2a-8669-c00b59411d19",
   "metadata": {},
   "outputs": [
    {
     "data": {
      "text/html": [
       "<div>\n",
       "<style scoped>\n",
       "    .dataframe tbody tr th:only-of-type {\n",
       "        vertical-align: middle;\n",
       "    }\n",
       "\n",
       "    .dataframe tbody tr th {\n",
       "        vertical-align: top;\n",
       "    }\n",
       "\n",
       "    .dataframe thead th {\n",
       "        text-align: right;\n",
       "    }\n",
       "</style>\n",
       "<table border=\"1\" class=\"dataframe\">\n",
       "  <thead>\n",
       "    <tr style=\"text-align: right;\">\n",
       "      <th></th>\n",
       "      <th>Avg. Session Length</th>\n",
       "      <th>Time on App</th>\n",
       "      <th>Time on Website</th>\n",
       "      <th>Length of Membership</th>\n",
       "      <th>dominio</th>\n",
       "      <th>Tec</th>\n",
       "    </tr>\n",
       "  </thead>\n",
       "  <tbody>\n",
       "    <tr>\n",
       "      <th>0</th>\n",
       "      <td>32.063775</td>\n",
       "      <td>10.71915</td>\n",
       "      <td>37.712509</td>\n",
       "      <td>3.004743</td>\n",
       "      <td>gmail</td>\n",
       "      <td>Smartphone</td>\n",
       "    </tr>\n",
       "    <tr>\n",
       "      <th>1</th>\n",
       "      <td>32.063775</td>\n",
       "      <td>10.71915</td>\n",
       "      <td>37.712509</td>\n",
       "      <td>3.004743</td>\n",
       "      <td>gmail</td>\n",
       "      <td>Smartphone</td>\n",
       "    </tr>\n",
       "  </tbody>\n",
       "</table>\n",
       "</div>"
      ],
      "text/plain": [
       "   Avg. Session Length  Time on App  Time on Website  Length of Membership  \\\n",
       "0            32.063775     10.71915        37.712509              3.004743   \n",
       "1            32.063775     10.71915        37.712509              3.004743   \n",
       "\n",
       "  dominio         Tec  \n",
       "0   gmail  Smartphone  \n",
       "1   gmail  Smartphone  "
      ]
     },
     "execution_count": 37,
     "metadata": {},
     "output_type": "execute_result"
    }
   ],
   "source": [
    "prueba2 = pd.concat([user,base_modelo],axis = 0)\n",
    "prueba2.index = range(prueba2.shape[0])\n",
    "prueba2.head(2)\n",
    "\n",
    "\n"
   ]
  },
  {
   "cell_type": "code",
   "execution_count": 38,
   "id": "434e9b93-3313-47db-b80b-c76e2e25d870",
   "metadata": {},
   "outputs": [
    {
     "data": {
      "text/plain": [
       "['Avg. Session Length',\n",
       " 'Time on App',\n",
       " 'Time on Website',\n",
       " 'Length of Membership']"
      ]
     },
     "execution_count": 38,
     "metadata": {},
     "output_type": "execute_result"
    }
   ],
   "source": [
    "cuantitativas"
   ]
  },
  {
   "cell_type": "code",
   "execution_count": 39,
   "id": "37839039-2238-4b0d-bc56-531a02d1fa12",
   "metadata": {},
   "outputs": [
    {
     "data": {
      "text/plain": [
       "['dominio', 'Tec']"
      ]
     },
     "execution_count": 39,
     "metadata": {},
     "output_type": "execute_result"
    }
   ],
   "source": [
    "categoricas"
   ]
  },
  {
   "cell_type": "code",
   "execution_count": 40,
   "id": "ef7afc24-ed10-4c59-bf88-7a932eb1cc2a",
   "metadata": {},
   "outputs": [],
   "source": [
    "# Carga el modelo desde el archivo\n",
    "with open(path2 + 'best_model.pkl', 'rb') as model_file:\n",
    "    dt2 = pickle.load(model_file)"
   ]
  },
  {
   "cell_type": "code",
   "execution_count": 41,
   "id": "faa1f278-def0-4c8b-b176-5630286b6c36",
   "metadata": {},
   "outputs": [
    {
     "data": {
      "text/html": [],
      "text/plain": [
       "<IPython.core.display.HTML object>"
      ]
     },
     "metadata": {},
     "output_type": "display_data"
    },
    {
     "data": {
      "text/html": [
       "<div>\n",
       "<style scoped>\n",
       "    .dataframe tbody tr th:only-of-type {\n",
       "        vertical-align: middle;\n",
       "    }\n",
       "\n",
       "    .dataframe tbody tr th {\n",
       "        vertical-align: top;\n",
       "    }\n",
       "\n",
       "    .dataframe thead th {\n",
       "        text-align: right;\n",
       "    }\n",
       "</style>\n",
       "<table border=\"1\" class=\"dataframe\">\n",
       "  <thead>\n",
       "    <tr style=\"text-align: right;\">\n",
       "      <th></th>\n",
       "      <th>Avg. Session Length</th>\n",
       "      <th>Time on App</th>\n",
       "      <th>Time on Website</th>\n",
       "      <th>Length of Membership</th>\n",
       "      <th>dominio</th>\n",
       "      <th>Tec</th>\n",
       "      <th>prediction_label</th>\n",
       "    </tr>\n",
       "  </thead>\n",
       "  <tbody>\n",
       "    <tr>\n",
       "      <th>0</th>\n",
       "      <td>32.063774</td>\n",
       "      <td>10.719150</td>\n",
       "      <td>37.712509</td>\n",
       "      <td>3.004743</td>\n",
       "      <td>gmail</td>\n",
       "      <td>Smartphone</td>\n",
       "      <td>511.440227</td>\n",
       "    </tr>\n",
       "    <tr>\n",
       "      <th>1</th>\n",
       "      <td>31.661049</td>\n",
       "      <td>11.398065</td>\n",
       "      <td>36.594456</td>\n",
       "      <td>3.198399</td>\n",
       "      <td>Otro</td>\n",
       "      <td>Portatil</td>\n",
       "      <td>430.324007</td>\n",
       "    </tr>\n",
       "    <tr>\n",
       "      <th>2</th>\n",
       "      <td>32.838100</td>\n",
       "      <td>12.364342</td>\n",
       "      <td>38.039108</td>\n",
       "      <td>3.309182</td>\n",
       "      <td>Otro</td>\n",
       "      <td>PC</td>\n",
       "      <td>465.180844</td>\n",
       "    </tr>\n",
       "    <tr>\n",
       "      <th>3</th>\n",
       "      <td>34.357197</td>\n",
       "      <td>9.477777</td>\n",
       "      <td>37.906013</td>\n",
       "      <td>5.047022</td>\n",
       "      <td>Otro</td>\n",
       "      <td>Iphone</td>\n",
       "      <td>515.022499</td>\n",
       "    </tr>\n",
       "    <tr>\n",
       "      <th>4</th>\n",
       "      <td>34.814983</td>\n",
       "      <td>12.114945</td>\n",
       "      <td>36.288723</td>\n",
       "      <td>4.389455</td>\n",
       "      <td>hotmail</td>\n",
       "      <td>Smartphone</td>\n",
       "      <td>416.172285</td>\n",
       "    </tr>\n",
       "  </tbody>\n",
       "</table>\n",
       "</div>"
      ],
      "text/plain": [
       "   Avg. Session Length  Time on App  Time on Website  Length of Membership  \\\n",
       "0            32.063774    10.719150        37.712509              3.004743   \n",
       "1            31.661049    11.398065        36.594456              3.198399   \n",
       "2            32.838100    12.364342        38.039108              3.309182   \n",
       "3            34.357197     9.477777        37.906013              5.047022   \n",
       "4            34.814983    12.114945        36.288723              4.389455   \n",
       "\n",
       "   dominio         Tec  prediction_label  \n",
       "0    gmail  Smartphone        511.440227  \n",
       "1     Otro    Portatil        430.324007  \n",
       "2     Otro          PC        465.180844  \n",
       "3     Otro      Iphone        515.022499  \n",
       "4  hotmail  Smartphone        416.172285  "
      ]
     },
     "execution_count": 41,
     "metadata": {},
     "output_type": "execute_result"
    }
   ],
   "source": [
    "df_test = base_modelo.copy()\n",
    "predictions = predict_model(dt2, data=df_test)\n",
    "predictions.head()"
   ]
  },
  {
   "cell_type": "code",
   "execution_count": 42,
   "id": "91c5fba4-dbfe-4290-8227-3ac220040dee",
   "metadata": {},
   "outputs": [
    {
     "data": {
      "text/html": [
       "<div>\n",
       "<style scoped>\n",
       "    .dataframe tbody tr th:only-of-type {\n",
       "        vertical-align: middle;\n",
       "    }\n",
       "\n",
       "    .dataframe tbody tr th {\n",
       "        vertical-align: top;\n",
       "    }\n",
       "\n",
       "    .dataframe thead th {\n",
       "        text-align: right;\n",
       "    }\n",
       "</style>\n",
       "<table border=\"1\" class=\"dataframe\">\n",
       "  <thead>\n",
       "    <tr style=\"text-align: right;\">\n",
       "      <th></th>\n",
       "      <th>Avg. Session Length</th>\n",
       "      <th>Time on App</th>\n",
       "      <th>Time on Website</th>\n",
       "      <th>Length of Membership</th>\n",
       "      <th>dominio</th>\n",
       "      <th>Tec</th>\n",
       "      <th>prediction_label</th>\n",
       "      <th>y</th>\n",
       "    </tr>\n",
       "  </thead>\n",
       "  <tbody>\n",
       "    <tr>\n",
       "      <th>0</th>\n",
       "      <td>32.063774</td>\n",
       "      <td>10.719150</td>\n",
       "      <td>37.712509</td>\n",
       "      <td>3.004743</td>\n",
       "      <td>gmail</td>\n",
       "      <td>Smartphone</td>\n",
       "      <td>511.440227</td>\n",
       "      <td>511.440227</td>\n",
       "    </tr>\n",
       "    <tr>\n",
       "      <th>1</th>\n",
       "      <td>31.661049</td>\n",
       "      <td>11.398065</td>\n",
       "      <td>36.594456</td>\n",
       "      <td>3.198399</td>\n",
       "      <td>Otro</td>\n",
       "      <td>Portatil</td>\n",
       "      <td>430.324007</td>\n",
       "      <td>430.324007</td>\n",
       "    </tr>\n",
       "    <tr>\n",
       "      <th>2</th>\n",
       "      <td>32.838100</td>\n",
       "      <td>12.364342</td>\n",
       "      <td>38.039108</td>\n",
       "      <td>3.309182</td>\n",
       "      <td>Otro</td>\n",
       "      <td>PC</td>\n",
       "      <td>465.180844</td>\n",
       "      <td>465.180844</td>\n",
       "    </tr>\n",
       "    <tr>\n",
       "      <th>3</th>\n",
       "      <td>34.357197</td>\n",
       "      <td>9.477777</td>\n",
       "      <td>37.906013</td>\n",
       "      <td>5.047022</td>\n",
       "      <td>Otro</td>\n",
       "      <td>Iphone</td>\n",
       "      <td>515.022499</td>\n",
       "      <td>515.022499</td>\n",
       "    </tr>\n",
       "    <tr>\n",
       "      <th>4</th>\n",
       "      <td>34.814983</td>\n",
       "      <td>12.114945</td>\n",
       "      <td>36.288723</td>\n",
       "      <td>4.389455</td>\n",
       "      <td>hotmail</td>\n",
       "      <td>Smartphone</td>\n",
       "      <td>416.172285</td>\n",
       "      <td>416.172285</td>\n",
       "    </tr>\n",
       "  </tbody>\n",
       "</table>\n",
       "</div>"
      ],
      "text/plain": [
       "   Avg. Session Length  Time on App  Time on Website  Length of Membership  \\\n",
       "0            32.063774    10.719150        37.712509              3.004743   \n",
       "1            31.661049    11.398065        36.594456              3.198399   \n",
       "2            32.838100    12.364342        38.039108              3.309182   \n",
       "3            34.357197     9.477777        37.906013              5.047022   \n",
       "4            34.814983    12.114945        36.288723              4.389455   \n",
       "\n",
       "   dominio         Tec  prediction_label           y  \n",
       "0    gmail  Smartphone        511.440227  511.440227  \n",
       "1     Otro    Portatil        430.324007  430.324007  \n",
       "2     Otro          PC        465.180844  465.180844  \n",
       "3     Otro      Iphone        515.022499  515.022499  \n",
       "4  hotmail  Smartphone        416.172285  416.172285  "
      ]
     },
     "execution_count": 42,
     "metadata": {},
     "output_type": "execute_result"
    }
   ],
   "source": [
    "predictions[\"y\"] = predictions[\"prediction_label\"].map(float)\n",
    "predictions.head()"
   ]
  },
  {
   "cell_type": "code",
   "execution_count": 48,
   "id": "bfb9f9d9-3f85-48f2-ae9b-c7226cd3c567",
   "metadata": {},
   "outputs": [
    {
     "name": "stdout",
     "output_type": "stream",
     "text": [
      "La predicción es : 511.4402269940931\n"
     ]
    }
   ],
   "source": [
    "print('La predicción es :',predictions.iloc[0][\"y\"])"
   ]
  },
  {
   "cell_type": "code",
   "execution_count": null,
   "id": "5564806c-1231-4abd-a786-0292f53ad7f3",
   "metadata": {},
   "outputs": [],
   "source": []
  }
 ],
 "metadata": {
  "kernelspec": {
   "display_name": "Python 3 (ipykernel)",
   "language": "python",
   "name": "python3"
  },
  "language_info": {
   "codemirror_mode": {
    "name": "ipython",
    "version": 3
   },
   "file_extension": ".py",
   "mimetype": "text/x-python",
   "name": "python",
   "nbconvert_exporter": "python",
   "pygments_lexer": "ipython3",
   "version": "3.10.11"
  }
 },
 "nbformat": 4,
 "nbformat_minor": 5
}
